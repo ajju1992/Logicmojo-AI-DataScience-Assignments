{
 "cells": [
  {
   "cell_type": "markdown",
   "id": "09449a86",
   "metadata": {},
   "source": [
    "# Assignment-3\n",
    "\n",
    "This notebook contains the coding questions to test the proficiency in `Pandas` library in python.\n",
    "\n",
    "### Date: 4th May, 2025\n",
    "\n",
    "### Steps to solve and upload the assignment \n",
    "\n",
    "- Download the notebook in your local machine.\n",
    "- Solve the questions in the notebook and save it.\n",
    "- Rename the file as `Assignment-03-<your_name>_<your_surname>.ipynb`. For example if your name is Dipika Chopra then name the file as `Assignment-03-Dipika_Chopra.ipynb`.\n",
    "- Upload the solved notebook in the google drive location: https://drive.google.com/drive/folders/1gCOcK20aw9a2i3kMK0ccymYIXPqOrqkq?usp=sharing \n",
    "\n",
    "<h3><span style=\"color:red\"> Deadline: 20th May, 2025 </span></h3>"
   ]
  },
  {
   "cell_type": "markdown",
   "id": "dc6b90c7",
   "metadata": {},
   "source": [
    "Use the `population_by_county.csv` file in the folder to complete the tasks.\n",
    "\n",
    "**NOTE: TRY TO DO ALL THE TASKS IN ONE LINE OF PANDAS CODE.**"
   ]
  },
  {
   "cell_type": "code",
   "execution_count": 3,
   "id": "7e086eb8",
   "metadata": {},
   "outputs": [],
   "source": [
    "import pandas as pd"
   ]
  },
  {
   "cell_type": "markdown",
   "id": "791b5343",
   "metadata": {},
   "source": [
    "#### 1. Import pandas and read in the `population_by_county.csv` file into a dataframe called `pop`."
   ]
  },
  {
   "cell_type": "code",
   "execution_count": 20,
   "id": "ac53294a",
   "metadata": {},
   "outputs": [
    {
     "data": {
      "text/html": [
       "<div>\n",
       "<style scoped>\n",
       "    .dataframe tbody tr th:only-of-type {\n",
       "        vertical-align: middle;\n",
       "    }\n",
       "\n",
       "    .dataframe tbody tr th {\n",
       "        vertical-align: top;\n",
       "    }\n",
       "\n",
       "    .dataframe thead th {\n",
       "        text-align: right;\n",
       "    }\n",
       "</style>\n",
       "<table border=\"1\" class=\"dataframe\">\n",
       "  <thead>\n",
       "    <tr style=\"text-align: right;\">\n",
       "      <th></th>\n",
       "      <th>County</th>\n",
       "      <th>State</th>\n",
       "      <th>2010Census</th>\n",
       "      <th>2017PopEstimate</th>\n",
       "    </tr>\n",
       "  </thead>\n",
       "  <tbody>\n",
       "    <tr>\n",
       "      <th>0</th>\n",
       "      <td>Abbeville County</td>\n",
       "      <td>South Carolina</td>\n",
       "      <td>25417</td>\n",
       "      <td>24722</td>\n",
       "    </tr>\n",
       "    <tr>\n",
       "      <th>1</th>\n",
       "      <td>Acadia Parish</td>\n",
       "      <td>Louisiana</td>\n",
       "      <td>61773</td>\n",
       "      <td>62590</td>\n",
       "    </tr>\n",
       "    <tr>\n",
       "      <th>2</th>\n",
       "      <td>Accomack County</td>\n",
       "      <td>Virginia</td>\n",
       "      <td>33164</td>\n",
       "      <td>32545</td>\n",
       "    </tr>\n",
       "    <tr>\n",
       "      <th>3</th>\n",
       "      <td>Ada County</td>\n",
       "      <td>Idaho</td>\n",
       "      <td>392365</td>\n",
       "      <td>456849</td>\n",
       "    </tr>\n",
       "    <tr>\n",
       "      <th>4</th>\n",
       "      <td>Adair County</td>\n",
       "      <td>Iowa</td>\n",
       "      <td>7682</td>\n",
       "      <td>7054</td>\n",
       "    </tr>\n",
       "    <tr>\n",
       "      <th>...</th>\n",
       "      <td>...</td>\n",
       "      <td>...</td>\n",
       "      <td>...</td>\n",
       "      <td>...</td>\n",
       "    </tr>\n",
       "    <tr>\n",
       "      <th>3137</th>\n",
       "      <td>Yuma County</td>\n",
       "      <td>Arizona</td>\n",
       "      <td>195751</td>\n",
       "      <td>207534</td>\n",
       "    </tr>\n",
       "    <tr>\n",
       "      <th>3138</th>\n",
       "      <td>Yuma County</td>\n",
       "      <td>Colorado</td>\n",
       "      <td>10043</td>\n",
       "      <td>10075</td>\n",
       "    </tr>\n",
       "    <tr>\n",
       "      <th>3139</th>\n",
       "      <td>Zapata County</td>\n",
       "      <td>Texas</td>\n",
       "      <td>14018</td>\n",
       "      <td>14322</td>\n",
       "    </tr>\n",
       "    <tr>\n",
       "      <th>3140</th>\n",
       "      <td>Zavala County</td>\n",
       "      <td>Texas</td>\n",
       "      <td>11677</td>\n",
       "      <td>11948</td>\n",
       "    </tr>\n",
       "    <tr>\n",
       "      <th>3141</th>\n",
       "      <td>Ziebach County</td>\n",
       "      <td>South Dakota</td>\n",
       "      <td>2801</td>\n",
       "      <td>2756</td>\n",
       "    </tr>\n",
       "  </tbody>\n",
       "</table>\n",
       "<p>3142 rows × 4 columns</p>\n",
       "</div>"
      ],
      "text/plain": [
       "                County           State  2010Census  2017PopEstimate\n",
       "0     Abbeville County  South Carolina       25417            24722\n",
       "1        Acadia Parish       Louisiana       61773            62590\n",
       "2      Accomack County        Virginia       33164            32545\n",
       "3           Ada County           Idaho      392365           456849\n",
       "4         Adair County            Iowa        7682             7054\n",
       "...                ...             ...         ...              ...\n",
       "3137       Yuma County         Arizona      195751           207534\n",
       "3138       Yuma County        Colorado       10043            10075\n",
       "3139     Zapata County           Texas       14018            14322\n",
       "3140     Zavala County           Texas       11677            11948\n",
       "3141    Ziebach County    South Dakota        2801             2756\n",
       "\n",
       "[3142 rows x 4 columns]"
      ]
     },
     "execution_count": 20,
     "metadata": {},
     "output_type": "execute_result"
    }
   ],
   "source": [
    "# Write your code here\n",
    "\n",
    "# Read the CSV file into a DataFrame\n",
    "pop = pd.read_csv(\"population_by_county.csv\")\n",
    "\n",
    "pop"
   ]
  },
  {
   "cell_type": "markdown",
   "id": "7c7b1f68",
   "metadata": {},
   "source": [
    "#### 2. Show the head of the dataframe, Also show top 8 rows of the dataframe using head"
   ]
  },
  {
   "cell_type": "code",
   "execution_count": 5,
   "id": "9f407fc5",
   "metadata": {},
   "outputs": [
    {
     "data": {
      "text/html": [
       "<div>\n",
       "<style scoped>\n",
       "    .dataframe tbody tr th:only-of-type {\n",
       "        vertical-align: middle;\n",
       "    }\n",
       "\n",
       "    .dataframe tbody tr th {\n",
       "        vertical-align: top;\n",
       "    }\n",
       "\n",
       "    .dataframe thead th {\n",
       "        text-align: right;\n",
       "    }\n",
       "</style>\n",
       "<table border=\"1\" class=\"dataframe\">\n",
       "  <thead>\n",
       "    <tr style=\"text-align: right;\">\n",
       "      <th></th>\n",
       "      <th>County</th>\n",
       "      <th>State</th>\n",
       "      <th>2010Census</th>\n",
       "      <th>2017PopEstimate</th>\n",
       "    </tr>\n",
       "  </thead>\n",
       "  <tbody>\n",
       "    <tr>\n",
       "      <th>0</th>\n",
       "      <td>Abbeville County</td>\n",
       "      <td>South Carolina</td>\n",
       "      <td>25417</td>\n",
       "      <td>24722</td>\n",
       "    </tr>\n",
       "    <tr>\n",
       "      <th>1</th>\n",
       "      <td>Acadia Parish</td>\n",
       "      <td>Louisiana</td>\n",
       "      <td>61773</td>\n",
       "      <td>62590</td>\n",
       "    </tr>\n",
       "    <tr>\n",
       "      <th>2</th>\n",
       "      <td>Accomack County</td>\n",
       "      <td>Virginia</td>\n",
       "      <td>33164</td>\n",
       "      <td>32545</td>\n",
       "    </tr>\n",
       "    <tr>\n",
       "      <th>3</th>\n",
       "      <td>Ada County</td>\n",
       "      <td>Idaho</td>\n",
       "      <td>392365</td>\n",
       "      <td>456849</td>\n",
       "    </tr>\n",
       "    <tr>\n",
       "      <th>4</th>\n",
       "      <td>Adair County</td>\n",
       "      <td>Iowa</td>\n",
       "      <td>7682</td>\n",
       "      <td>7054</td>\n",
       "    </tr>\n",
       "    <tr>\n",
       "      <th>5</th>\n",
       "      <td>Adair County</td>\n",
       "      <td>Kentucky</td>\n",
       "      <td>18656</td>\n",
       "      <td>19485</td>\n",
       "    </tr>\n",
       "    <tr>\n",
       "      <th>6</th>\n",
       "      <td>Adair County</td>\n",
       "      <td>Missouri</td>\n",
       "      <td>25607</td>\n",
       "      <td>25377</td>\n",
       "    </tr>\n",
       "    <tr>\n",
       "      <th>7</th>\n",
       "      <td>Adair County</td>\n",
       "      <td>Oklahoma</td>\n",
       "      <td>22683</td>\n",
       "      <td>21909</td>\n",
       "    </tr>\n",
       "  </tbody>\n",
       "</table>\n",
       "</div>"
      ],
      "text/plain": [
       "             County           State  2010Census  2017PopEstimate\n",
       "0  Abbeville County  South Carolina       25417            24722\n",
       "1     Acadia Parish       Louisiana       61773            62590\n",
       "2   Accomack County        Virginia       33164            32545\n",
       "3        Ada County           Idaho      392365           456849\n",
       "4      Adair County            Iowa        7682             7054\n",
       "5      Adair County        Kentucky       18656            19485\n",
       "6      Adair County        Missouri       25607            25377\n",
       "7      Adair County        Oklahoma       22683            21909"
      ]
     },
     "execution_count": 5,
     "metadata": {},
     "output_type": "execute_result"
    }
   ],
   "source": [
    "pop.head(8)"
   ]
  },
  {
   "cell_type": "markdown",
   "id": "53bee62b",
   "metadata": {},
   "source": [
    "#### 3. What are the column names?"
   ]
  },
  {
   "cell_type": "code",
   "execution_count": 6,
   "id": "67a4309a",
   "metadata": {},
   "outputs": [
    {
     "data": {
      "text/plain": [
       "['County', 'State', '2010Census', '2017PopEstimate']"
      ]
     },
     "execution_count": 6,
     "metadata": {},
     "output_type": "execute_result"
    }
   ],
   "source": [
    "column_names = list(pop.columns)\n",
    "column_names"
   ]
  },
  {
   "cell_type": "markdown",
   "id": "cd10e795",
   "metadata": {},
   "source": [
    "#### 4. How many States are represented in this data set?  \n",
    "<em>Note: the data includes the `District of Columbia`</em>"
   ]
  },
  {
   "cell_type": "code",
   "execution_count": 7,
   "id": "8eee15e3",
   "metadata": {},
   "outputs": [
    {
     "name": "stdout",
     "output_type": "stream",
     "text": [
      "50\n"
     ]
    }
   ],
   "source": [
    "count_of_States  = pop[\"State\"].nunique()\n",
    "\n",
    "count_district_columnbia = (pop[\"State\"] == 'District of Columbia').sum()\n",
    "\n",
    "print(count_of_States - count_district_columnbia)"
   ]
  },
  {
   "cell_type": "markdown",
   "id": "fb592331",
   "metadata": {},
   "source": [
    "#### 5. Get a list or array of all the states in the data set."
   ]
  },
  {
   "cell_type": "code",
   "execution_count": 8,
   "id": "45e4706f",
   "metadata": {},
   "outputs": [
    {
     "name": "stdout",
     "output_type": "stream",
     "text": [
      "['South Carolina' 'Louisiana' 'Virginia' 'Idaho' 'Iowa' 'Kentucky'\n",
      " 'Missouri' 'Oklahoma' 'Colorado' 'Illinois' 'Indiana' 'Mississippi'\n",
      " 'Nebraska' 'North Dakota' 'Ohio' 'Pennsylvania' 'Washington' 'Wisconsin'\n",
      " 'Vermont' 'Minnesota' 'Florida' 'North Carolina' 'California' 'New York'\n",
      " 'Wyoming' 'Michigan' 'Alaska' 'Maryland' 'Kansas' 'Tennessee' 'Texas'\n",
      " 'Maine' 'Arizona' 'Georgia' 'Arkansas' 'New Jersey' 'South Dakota'\n",
      " 'Alabama' 'Oregon' 'West Virginia' 'Massachusetts' 'Utah' 'Montana'\n",
      " 'New Hampshire' 'New Mexico' 'Rhode Island' 'Nevada'\n",
      " 'District of Columbia' 'Connecticut' 'Hawaii' 'Delaware']\n",
      "\n",
      "51\n"
     ]
    }
   ],
   "source": [
    "import numpy as np\n",
    "\n",
    "unique_array = np.array(pop[\"State\"].unique())\n",
    "print(unique_array)\n",
    "\n",
    "print()\n",
    "print(unique_array.size)"
   ]
  },
  {
   "cell_type": "markdown",
   "id": "b2cd09d6",
   "metadata": {},
   "source": [
    "#### 6. What are the five most common County names in the U.S.?"
   ]
  },
  {
   "cell_type": "code",
   "execution_count": 10,
   "id": "340f77c7",
   "metadata": {},
   "outputs": [
    {
     "name": "stdout",
     "output_type": "stream",
     "text": [
      "{'Washington County': 30, 'Jefferson County': 25, 'Franklin County': 24, 'Lincoln County': 23, 'Jackson County': 23}\n"
     ]
    }
   ],
   "source": [
    "# Get a dictionary of the repetition count of the highest 5 enteries in the column = county\n",
    "top_5_counts = pop[\"County\"].value_counts().nlargest(5).to_dict()\n",
    "print(top_5_counts)"
   ]
  },
  {
   "cell_type": "markdown",
   "id": "8ea0b0fd",
   "metadata": {},
   "source": [
    "#### 7. What are the top 5 most populated Counties according to the 2010 Census?"
   ]
  },
  {
   "cell_type": "code",
   "execution_count": 12,
   "id": "abcbf760",
   "metadata": {},
   "outputs": [
    {
     "data": {
      "text/plain": [
       "County\n",
       "Los Angeles County    9818605\n",
       "Cook County           5217063\n",
       "Orange County         4826896\n",
       "Harris County         4124483\n",
       "Maricopa County       3817117\n",
       "Name: 2010Census, dtype: int64"
      ]
     },
     "execution_count": 12,
     "metadata": {},
     "output_type": "execute_result"
    }
   ],
   "source": [
    "df_new = pop.groupby(\"County\")[\"2010Census\"].sum().nlargest(5)\n",
    "df_new"
   ]
  },
  {
   "cell_type": "markdown",
   "id": "eebde689",
   "metadata": {},
   "source": [
    "#### 8. What are the top 5 most populated States according to the 2010 Census?"
   ]
  },
  {
   "cell_type": "code",
   "execution_count": 13,
   "id": "a36522be",
   "metadata": {},
   "outputs": [
    {
     "name": "stdout",
     "output_type": "stream",
     "text": [
      "State\n",
      "California    37253956\n",
      "Texas         25145561\n",
      "New York      19378102\n",
      "Florida       18801310\n",
      "Illinois      12830632\n",
      "Name: 2010Census, dtype: int64\n"
     ]
    }
   ],
   "source": [
    "print(pop.groupby(\"State\")[\"2010Census\"].sum().nlargest(5))"
   ]
  },
  {
   "cell_type": "markdown",
   "id": "d31fdb1f",
   "metadata": {},
   "source": [
    "#### 9. How many Counties have 2010 populations greater than 1 million?"
   ]
  },
  {
   "cell_type": "code",
   "execution_count": 14,
   "id": "54fa2688",
   "metadata": {},
   "outputs": [
    {
     "name": "stdout",
     "output_type": "stream",
     "text": [
      "60\n"
     ]
    }
   ],
   "source": [
    "group_county_df = pop.groupby(\"County\")[\"2010Census\"].sum()\n",
    "\n",
    "#print(group_county_df)\n",
    "\n",
    "filtered_counties = group_county_df[group_county_df > 1000000]\n",
    "\n",
    "#print(filtered_counties)\n",
    "\n",
    "print(filtered_counties.count())\n"
   ]
  },
  {
   "cell_type": "markdown",
   "id": "a893d6d1",
   "metadata": {},
   "source": [
    "#### 10. How many Counties don't have the word \"County\" in their name?"
   ]
  },
  {
   "cell_type": "code",
   "execution_count": 15,
   "id": "54fc8189",
   "metadata": {},
   "outputs": [
    {
     "name": "stdout",
     "output_type": "stream",
     "text": [
      "135\n"
     ]
    }
   ],
   "source": [
    "count = pop[\"County\"].apply(lambda x: \"County\" not in x).sum()\n",
    "print(count)"
   ]
  },
  {
   "cell_type": "markdown",
   "id": "8d9438f6",
   "metadata": {},
   "source": [
    "#### 11. Add a column that calculates the percent change between the 2010 Census and the 2017 Population Estimate"
   ]
  },
  {
   "cell_type": "code",
   "execution_count": 22,
   "id": "2177f110",
   "metadata": {},
   "outputs": [
    {
     "data": {
      "text/html": [
       "<div>\n",
       "<style scoped>\n",
       "    .dataframe tbody tr th:only-of-type {\n",
       "        vertical-align: middle;\n",
       "    }\n",
       "\n",
       "    .dataframe tbody tr th {\n",
       "        vertical-align: top;\n",
       "    }\n",
       "\n",
       "    .dataframe thead th {\n",
       "        text-align: right;\n",
       "    }\n",
       "</style>\n",
       "<table border=\"1\" class=\"dataframe\">\n",
       "  <thead>\n",
       "    <tr style=\"text-align: right;\">\n",
       "      <th></th>\n",
       "      <th>County</th>\n",
       "      <th>State</th>\n",
       "      <th>2010Census</th>\n",
       "      <th>2017PopEstimate</th>\n",
       "      <th>PercentageChange</th>\n",
       "    </tr>\n",
       "  </thead>\n",
       "  <tbody>\n",
       "    <tr>\n",
       "      <th>0</th>\n",
       "      <td>Abbeville County</td>\n",
       "      <td>South Carolina</td>\n",
       "      <td>25417</td>\n",
       "      <td>24722</td>\n",
       "      <td>-2.734390</td>\n",
       "    </tr>\n",
       "    <tr>\n",
       "      <th>1</th>\n",
       "      <td>Acadia Parish</td>\n",
       "      <td>Louisiana</td>\n",
       "      <td>61773</td>\n",
       "      <td>62590</td>\n",
       "      <td>1.322584</td>\n",
       "    </tr>\n",
       "    <tr>\n",
       "      <th>2</th>\n",
       "      <td>Accomack County</td>\n",
       "      <td>Virginia</td>\n",
       "      <td>33164</td>\n",
       "      <td>32545</td>\n",
       "      <td>-1.866482</td>\n",
       "    </tr>\n",
       "    <tr>\n",
       "      <th>3</th>\n",
       "      <td>Ada County</td>\n",
       "      <td>Idaho</td>\n",
       "      <td>392365</td>\n",
       "      <td>456849</td>\n",
       "      <td>16.434697</td>\n",
       "    </tr>\n",
       "    <tr>\n",
       "      <th>4</th>\n",
       "      <td>Adair County</td>\n",
       "      <td>Iowa</td>\n",
       "      <td>7682</td>\n",
       "      <td>7054</td>\n",
       "      <td>-8.174954</td>\n",
       "    </tr>\n",
       "    <tr>\n",
       "      <th>...</th>\n",
       "      <td>...</td>\n",
       "      <td>...</td>\n",
       "      <td>...</td>\n",
       "      <td>...</td>\n",
       "      <td>...</td>\n",
       "    </tr>\n",
       "    <tr>\n",
       "      <th>3137</th>\n",
       "      <td>Yuma County</td>\n",
       "      <td>Arizona</td>\n",
       "      <td>195751</td>\n",
       "      <td>207534</td>\n",
       "      <td>6.019382</td>\n",
       "    </tr>\n",
       "    <tr>\n",
       "      <th>3138</th>\n",
       "      <td>Yuma County</td>\n",
       "      <td>Colorado</td>\n",
       "      <td>10043</td>\n",
       "      <td>10075</td>\n",
       "      <td>0.318630</td>\n",
       "    </tr>\n",
       "    <tr>\n",
       "      <th>3139</th>\n",
       "      <td>Zapata County</td>\n",
       "      <td>Texas</td>\n",
       "      <td>14018</td>\n",
       "      <td>14322</td>\n",
       "      <td>2.168640</td>\n",
       "    </tr>\n",
       "    <tr>\n",
       "      <th>3140</th>\n",
       "      <td>Zavala County</td>\n",
       "      <td>Texas</td>\n",
       "      <td>11677</td>\n",
       "      <td>11948</td>\n",
       "      <td>2.320802</td>\n",
       "    </tr>\n",
       "    <tr>\n",
       "      <th>3141</th>\n",
       "      <td>Ziebach County</td>\n",
       "      <td>South Dakota</td>\n",
       "      <td>2801</td>\n",
       "      <td>2756</td>\n",
       "      <td>-1.606569</td>\n",
       "    </tr>\n",
       "  </tbody>\n",
       "</table>\n",
       "<p>3142 rows × 5 columns</p>\n",
       "</div>"
      ],
      "text/plain": [
       "                County           State  2010Census  2017PopEstimate  \\\n",
       "0     Abbeville County  South Carolina       25417            24722   \n",
       "1        Acadia Parish       Louisiana       61773            62590   \n",
       "2      Accomack County        Virginia       33164            32545   \n",
       "3           Ada County           Idaho      392365           456849   \n",
       "4         Adair County            Iowa        7682             7054   \n",
       "...                ...             ...         ...              ...   \n",
       "3137       Yuma County         Arizona      195751           207534   \n",
       "3138       Yuma County        Colorado       10043            10075   \n",
       "3139     Zapata County           Texas       14018            14322   \n",
       "3140     Zavala County           Texas       11677            11948   \n",
       "3141    Ziebach County    South Dakota        2801             2756   \n",
       "\n",
       "      PercentageChange  \n",
       "0            -2.734390  \n",
       "1             1.322584  \n",
       "2            -1.866482  \n",
       "3            16.434697  \n",
       "4            -8.174954  \n",
       "...                ...  \n",
       "3137          6.019382  \n",
       "3138          0.318630  \n",
       "3139          2.168640  \n",
       "3140          2.320802  \n",
       "3141         -1.606569  \n",
       "\n",
       "[3142 rows x 5 columns]"
      ]
     },
     "execution_count": 22,
     "metadata": {},
     "output_type": "execute_result"
    }
   ],
   "source": [
    "# Calculate percentage change\n",
    "perc_change = ((pop[\"2017PopEstimate\"] - pop[\"2010Census\"])/(pop[\"2010Census\"]))*100\n",
    "\n",
    "pop[\"PercentageChange\"] = perc_change\n",
    "\n",
    "pop"
   ]
  },
  {
   "cell_type": "markdown",
   "id": "fdf36e49",
   "metadata": {},
   "source": [
    "#### 12. What States have the highest estimated percent change between the 2010 Census and the 2017 Population Estimate?\n",
    "\n",
    "**NOTE:** This will take several lines of code, as it requires a recalculation of Percent Change."
   ]
  },
  {
   "cell_type": "code",
   "execution_count": 30,
   "id": "3d102190",
   "metadata": {},
   "outputs": [
    {
     "data": {
      "text/html": [
       "<div>\n",
       "<style scoped>\n",
       "    .dataframe tbody tr th:only-of-type {\n",
       "        vertical-align: middle;\n",
       "    }\n",
       "\n",
       "    .dataframe tbody tr th {\n",
       "        vertical-align: top;\n",
       "    }\n",
       "\n",
       "    .dataframe thead th {\n",
       "        text-align: right;\n",
       "    }\n",
       "</style>\n",
       "<table border=\"1\" class=\"dataframe\">\n",
       "  <thead>\n",
       "    <tr style=\"text-align: right;\">\n",
       "      <th></th>\n",
       "      <th>2010Census</th>\n",
       "      <th>2017PopEstimate</th>\n",
       "      <th>PercentChange</th>\n",
       "    </tr>\n",
       "    <tr>\n",
       "      <th>State</th>\n",
       "      <th></th>\n",
       "      <th></th>\n",
       "      <th></th>\n",
       "    </tr>\n",
       "  </thead>\n",
       "  <tbody>\n",
       "    <tr>\n",
       "      <th>District of Columbia</th>\n",
       "      <td>601723</td>\n",
       "      <td>693972</td>\n",
       "      <td>15.330808</td>\n",
       "    </tr>\n",
       "    <tr>\n",
       "      <th>Texas</th>\n",
       "      <td>25145561</td>\n",
       "      <td>28304596</td>\n",
       "      <td>12.562993</td>\n",
       "    </tr>\n",
       "    <tr>\n",
       "      <th>North Dakota</th>\n",
       "      <td>672591</td>\n",
       "      <td>755393</td>\n",
       "      <td>12.310899</td>\n",
       "    </tr>\n",
       "    <tr>\n",
       "      <th>Utah</th>\n",
       "      <td>2763885</td>\n",
       "      <td>3101833</td>\n",
       "      <td>12.227282</td>\n",
       "    </tr>\n",
       "    <tr>\n",
       "      <th>Florida</th>\n",
       "      <td>18801310</td>\n",
       "      <td>20984400</td>\n",
       "      <td>11.611372</td>\n",
       "    </tr>\n",
       "  </tbody>\n",
       "</table>\n",
       "</div>"
      ],
      "text/plain": [
       "                      2010Census  2017PopEstimate  PercentChange\n",
       "State                                                           \n",
       "District of Columbia      601723           693972      15.330808\n",
       "Texas                   25145561         28304596      12.562993\n",
       "North Dakota              672591           755393      12.310899\n",
       "Utah                     2763885          3101833      12.227282\n",
       "Florida                 18801310         20984400      11.611372"
      ]
     },
     "execution_count": 30,
     "metadata": {},
     "output_type": "execute_result"
    }
   ],
   "source": [
    "state_grouped_df = pop.groupby(\"State\")[[\"2010Census\", \"2017PopEstimate\"]].sum()\n",
    "state_grouped_df\n",
    "\n",
    "# calculate Percentage change on the group by DF.\n",
    "percent_change = ((state_grouped_df[\"2017PopEstimate\"] - state_grouped_df[\"2010Census\"])/(state_grouped_df[\"2010Census\"]))*100\n",
    "\n",
    "state_grouped_df[\"PercentChange\"] = percent_change\n",
    "state_grouped_df\n",
    "\n",
    "state_grouped_df.sort_values(by=\"PercentChange\", ascending=False).head()"
   ]
  },
  {
   "cell_type": "code",
   "execution_count": null,
   "id": "e3611051",
   "metadata": {},
   "outputs": [],
   "source": []
  }
 ],
 "metadata": {
  "kernelspec": {
   "display_name": "jupyter_env",
   "language": "python",
   "name": "python3"
  },
  "language_info": {
   "codemirror_mode": {
    "name": "ipython",
    "version": 3
   },
   "file_extension": ".py",
   "mimetype": "text/x-python",
   "name": "python",
   "nbconvert_exporter": "python",
   "pygments_lexer": "ipython3",
   "version": "3.9.6"
  }
 },
 "nbformat": 4,
 "nbformat_minor": 5
}
