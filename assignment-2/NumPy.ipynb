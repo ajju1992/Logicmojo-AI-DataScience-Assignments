{
 "cells": [
  {
   "cell_type": "markdown",
   "id": "dc07db6a",
   "metadata": {},
   "source": [
    "# Assignment-2\n",
    "\n",
    "This notebook contains the coding questions to test the proficiency in `NumPy` library of python.\n",
    "\n",
    "### Date: 4th May, 2025\n",
    "\n",
    "### Steps to solve and upload the assignment \n",
    "\n",
    "- Download the notebook in your local machine.\n",
    "- Solve the questions in the notebook and save it.\n",
    "- Rename the file as `Assignment-02-<your_name>_<your_surname>.ipynb`. For example if your name is Dipika Chopra then name the file as `Assignment-02-Dipika_Chopra.ipynb`.\n",
    "- Upload the solved notebook in the google drive location: https://drive.google.com/drive/folders/1oeXRThJXEUmx6Z2CGaksZuxN8QsIF7QD?usp=sharing\n",
    "\n",
    "<h3><span style=\"color:red\"> Deadline: 20th May, 2025 </span></h3>"
   ]
  },
  {
   "cell_type": "code",
   "execution_count": 95,
   "id": "d3038cca",
   "metadata": {},
   "outputs": [],
   "source": [
    "import numpy as np"
   ]
  },
  {
   "cell_type": "markdown",
   "id": "f4613f42",
   "metadata": {},
   "source": [
    "## Problem: 1\n",
    "Create a uniform subdivision of the interval -1.3 to 2.5 with 64 subdivisions."
   ]
  },
  {
   "cell_type": "code",
   "execution_count": 2,
   "id": "d9608c50",
   "metadata": {},
   "outputs": [
    {
     "name": "stdout",
     "output_type": "stream",
     "text": [
      "[-1.3        -1.23968254 -1.17936508 -1.11904762 -1.05873016 -0.9984127\n",
      " -0.93809524 -0.87777778 -0.81746032 -0.75714286 -0.6968254  -0.63650794\n",
      " -0.57619048 -0.51587302 -0.45555556 -0.3952381  -0.33492063 -0.27460317\n",
      " -0.21428571 -0.15396825 -0.09365079 -0.03333333  0.02698413  0.08730159\n",
      "  0.14761905  0.20793651  0.26825397  0.32857143  0.38888889  0.44920635\n",
      "  0.50952381  0.56984127  0.63015873  0.69047619  0.75079365  0.81111111\n",
      "  0.87142857  0.93174603  0.99206349  1.05238095  1.11269841  1.17301587\n",
      "  1.23333333  1.29365079  1.35396825  1.41428571  1.47460317  1.53492063\n",
      "  1.5952381   1.65555556  1.71587302  1.77619048  1.83650794  1.8968254\n",
      "  1.95714286  2.01746032  2.07777778  2.13809524  2.1984127   2.25873016\n",
      "  2.31904762  2.37936508  2.43968254  2.5       ]\n"
     ]
    },
    {
     "data": {
      "text/plain": [
       "64"
      ]
     },
     "execution_count": 2,
     "metadata": {},
     "output_type": "execute_result"
    }
   ],
   "source": [
    "subdivisions = np.linspace(-1.3, 2.5, 64)\n",
    "\n",
    "print(subdivisions)\n",
    "\n",
    "subdivisions.size\n"
   ]
  },
  {
   "cell_type": "markdown",
   "id": "592a81a1",
   "metadata": {},
   "source": [
    "## Problem: 2\n",
    "\n",
    "Generate an array of length $3n$ , filled with the cyclic pattern 1, 2, 3. Where $n$ is a natural number."
   ]
  },
  {
   "cell_type": "code",
   "execution_count": 17,
   "id": "b0eff8c5",
   "metadata": {},
   "outputs": [
    {
     "name": "stdout",
     "output_type": "stream",
     "text": [
      "[1 2 3 1 2 3 1 2 3 1 2 3 1 2 3 1 2 3 1 2 3 1 2 3 1 2 3 1 2 3]\n"
     ]
    },
    {
     "data": {
      "text/plain": [
       "30"
      ]
     },
     "execution_count": 17,
     "metadata": {},
     "output_type": "execute_result"
    }
   ],
   "source": [
    "# Take n as in put from the user\n",
    "n = int(input(\"Enter a natural number: \"))\n",
    "#print(\"You entered:\", n)\n",
    "\n",
    "cyclic_pattern_arr = np.array([1, 2, 3])\n",
    "\n",
    "while(n > 1):\n",
    "    cyclic_pattern_arr = np.append(cyclic_pattern_arr,([1, 2, 3]))\n",
    "    n = n - 1\n",
    "\n",
    "print(cyclic_pattern_arr)\n",
    "\n",
    "cyclic_pattern_arr.size"
   ]
  },
  {
   "cell_type": "markdown",
   "id": "4d2d5ac4",
   "metadata": {},
   "source": [
    "## Problem: 3\n",
    "Create an array of the first $n$ odd integers. $n$ is a natural number input from user."
   ]
  },
  {
   "cell_type": "code",
   "execution_count": 24,
   "id": "d9ad08b8",
   "metadata": {},
   "outputs": [
    {
     "data": {
      "text/plain": [
       "array([ 1,  3,  5,  7,  9, 11, 13, 15, 17, 19, 21, 23, 25, 27, 29, 31, 33,\n",
       "       35, 37, 39, 41, 43, 45, 47, 49])"
      ]
     },
     "execution_count": 24,
     "metadata": {},
     "output_type": "execute_result"
    }
   ],
   "source": [
    "# Take n as in put from the user\n",
    "n = int(input(\"Enter a natural number: \"))\n",
    "\n",
    "first_odd_num_arr = np.array([1])\n",
    "\n",
    "for i in range(2, n+1):\n",
    "    if(i % 2 != 0):\n",
    "        first_odd_num_arr = np.append(first_odd_num_arr, ([i]))\n",
    "\n",
    "first_odd_num_arr\n"
   ]
  },
  {
   "cell_type": "markdown",
   "id": "b4db8108",
   "metadata": {},
   "source": [
    "## Problem: 4\n",
    "\n",
    "Create a 10 x 10 arrays of zeros and then \"frame\" it with a border of ones."
   ]
  },
  {
   "cell_type": "code",
   "execution_count": 51,
   "id": "43ebcbe6",
   "metadata": {},
   "outputs": [
    {
     "name": "stdout",
     "output_type": "stream",
     "text": [
      "[[1. 1. 1. 1. 1. 1. 1. 1. 1. 1. 1. 1.]\n",
      " [1. 0. 0. 0. 0. 0. 0. 0. 0. 0. 0. 1.]\n",
      " [1. 0. 0. 0. 0. 0. 0. 0. 0. 0. 0. 1.]\n",
      " [1. 0. 0. 0. 0. 0. 0. 0. 0. 0. 0. 1.]\n",
      " [1. 0. 0. 0. 0. 0. 0. 0. 0. 0. 0. 1.]\n",
      " [1. 0. 0. 0. 0. 0. 0. 0. 0. 0. 0. 1.]\n",
      " [1. 0. 0. 0. 0. 0. 0. 0. 0. 0. 0. 1.]\n",
      " [1. 0. 0. 0. 0. 0. 0. 0. 0. 0. 0. 1.]\n",
      " [1. 0. 0. 0. 0. 0. 0. 0. 0. 0. 0. 1.]\n",
      " [1. 0. 0. 0. 0. 0. 0. 0. 0. 0. 0. 1.]\n",
      " [1. 0. 0. 0. 0. 0. 0. 0. 0. 0. 0. 1.]\n",
      " [1. 1. 1. 1. 1. 1. 1. 1. 1. 1. 1. 1.]]\n"
     ]
    },
    {
     "data": {
      "text/plain": [
       "144"
      ]
     },
     "execution_count": 51,
     "metadata": {},
     "output_type": "execute_result"
    }
   ],
   "source": [
    "# Initialize an 10x10 array of all zeroes\n",
    "arr = np.zeros((10,10))\n",
    "\n",
    "new_arr = np.insert(arr, 0, 1, axis = 1)\n",
    "new_arr = np.insert(new_arr, 0, 1, axis=0)\n",
    "new_arr = np.insert(new_arr,11, 1, axis=1)\n",
    "new_arr = np.insert(new_arr, 11, 1, axis=0)\n",
    "\n",
    "print(new_arr)\n",
    "\n",
    "new_arr.size"
   ]
  },
  {
   "cell_type": "markdown",
   "id": "b7dfc64f",
   "metadata": {},
   "source": [
    "## Problem: 5\n",
    "\n",
    "Create an 8 x 8 array with a checkerboard pattern of zeros and ones."
   ]
  },
  {
   "cell_type": "code",
   "execution_count": 82,
   "id": "a2533a49",
   "metadata": {},
   "outputs": [
    {
     "data": {
      "text/plain": [
       "array([[0, 1, 0, 1, 0, 1, 0, 1],\n",
       "       [1, 0, 1, 0, 1, 0, 1, 0],\n",
       "       [0, 1, 0, 1, 0, 1, 0, 1],\n",
       "       [1, 0, 1, 0, 1, 0, 1, 0],\n",
       "       [0, 1, 0, 1, 0, 1, 0, 1],\n",
       "       [1, 0, 1, 0, 1, 0, 1, 0],\n",
       "       [0, 1, 0, 1, 0, 1, 0, 1],\n",
       "       [1, 0, 1, 0, 1, 0, 1, 0]])"
      ]
     },
     "execution_count": 82,
     "metadata": {},
     "output_type": "execute_result"
    }
   ],
   "source": [
    "# Initialize 2 pattern arrays which are getting repeated in a 8x8 grid\n",
    "pattern_1_arr = np.array([0,1,0,1,0,1,0,1])\n",
    "pattern_2_arr = np.array([1,0,1,0,1,0,1,0])\n",
    "\n",
    "new_arr = np.vstack((pattern_1_arr,pattern_2_arr))\n",
    "\n",
    "for i in range(2,8):\n",
    "    if(i%2 == 0):\n",
    "        new_arr = np.vstack((new_arr,pattern_1_arr))\n",
    "    else:\n",
    "        new_arr = np.vstack((new_arr,pattern_2_arr))\n",
    "\n",
    "new_arr"
   ]
  },
  {
   "cell_type": "markdown",
   "id": "16836fba",
   "metadata": {},
   "source": [
    "## Problem: 6\n",
    "\n",
    "Create an array $x$ with 100 points in the interval $[-1,1]$ (the points must be uniformly spaced). Then create another array $y$. \n",
    "\n",
    "Where $y = x^2 sin(x^2) + x$. \n",
    "\n",
    "Try to plot $y$ vs $x$ using matplotlib."
   ]
  },
  {
   "cell_type": "code",
   "execution_count": 103,
   "id": "60163795",
   "metadata": {},
   "outputs": [
    {
     "data": {
      "image/png": "[encoded data removed]",
      "text/plain": [
       "<Figure size 640x480 with 1 Axes>"
      ]
     },
     "metadata": {},
     "output_type": "display_data"
    }
   ],
   "source": [
    "import matplotlib.pyplot as plt\n",
    "\n",
    "#uniformly spaced 100 points between [-1,1]\n",
    "x_arr = np.linspace(-1,1,100)\n",
    "\n",
    "y = (x_arr**2 * np.sin(x_arr**2)) + x_arr\n",
    "\n",
    "plt.plot(x_arr, y, label=\"y = x² sin(x²) + x\", color='g')\n",
    "plt.xlabel(\"x\")\n",
    "plt.ylabel(\"y\")\n",
    "plt.legend()\n",
    "plt.show()\n"
   ]
  },
  {
   "cell_type": "markdown",
   "id": "38ce56fe",
   "metadata": {},
   "source": [
    "## Problem: 7 \n",
    "Create a function which creates an $n×n$ array with $(i , j)$ -entry equal to $i+ j$"
   ]
  },
  {
   "cell_type": "code",
   "execution_count": 108,
   "id": "9f8df5fc",
   "metadata": {},
   "outputs": [
    {
     "data": {
      "text/plain": [
       "array([[ 0.,  1.,  2.,  3.,  4.,  5.,  6.,  7.,  8.,  9.],\n",
       "       [ 1.,  2.,  3.,  4.,  5.,  6.,  7.,  8.,  9., 10.],\n",
       "       [ 2.,  3.,  4.,  5.,  6.,  7.,  8.,  9., 10., 11.],\n",
       "       [ 3.,  4.,  5.,  6.,  7.,  8.,  9., 10., 11., 12.],\n",
       "       [ 4.,  5.,  6.,  7.,  8.,  9., 10., 11., 12., 13.],\n",
       "       [ 5.,  6.,  7.,  8.,  9., 10., 11., 12., 13., 14.],\n",
       "       [ 6.,  7.,  8.,  9., 10., 11., 12., 13., 14., 15.],\n",
       "       [ 7.,  8.,  9., 10., 11., 12., 13., 14., 15., 16.],\n",
       "       [ 8.,  9., 10., 11., 12., 13., 14., 15., 16., 17.],\n",
       "       [ 9., 10., 11., 12., 13., 14., 15., 16., 17., 18.]])"
      ]
     },
     "execution_count": 108,
     "metadata": {},
     "output_type": "execute_result"
    }
   ],
   "source": [
    "# Take n as in put from the user\n",
    "n = int(input(\"Enter a natural number: \"))\n",
    "\n",
    "# Initialize a nxn array of all zeroes\n",
    "arr= np.zeros((n,n))\n",
    "\n",
    "for i in range(0, n):\n",
    "    for j in range(0,n):\n",
    "        arr[i,j] = i+j\n",
    "\n",
    "arr"
   ]
  },
  {
   "cell_type": "markdown",
   "id": "c7ef619d",
   "metadata": {},
   "source": [
    "# Problem: 8\n",
    "Evaluate $cos$ and $sin$ on the interval $[0,1]$  with 1000 points and then stack the results into a tall array with rows being the $(cos(x),sin(x))$ entries."
   ]
  },
  {
   "cell_type": "code",
   "execution_count": 159,
   "id": "268d11c0",
   "metadata": {},
   "outputs": [
    {
     "name": "stdout",
     "output_type": "stream",
     "text": [
      "x_arr\n",
      " [0.         0.11111111 0.22222222 0.33333333 0.44444444 0.55555556\n",
      " 0.66666667 0.77777778 0.88888889 1.        ]\n",
      "\n",
      "cos array values\n",
      " [1.         0.99383351 0.97541009 0.94495695 0.90284967 0.84960756\n",
      " 0.78588726 0.71247462 0.63027505 0.54030231]\n",
      "\n",
      "sin array values\n",
      " [0.         0.11088263 0.22039774 0.3271947  0.42995636 0.52741539\n",
      " 0.6183698  0.70169788 0.77637192 0.84147098]\n",
      "\n",
      "tall array\n",
      " [[1.         0.        ]\n",
      " [0.99383351 0.11088263]\n",
      " [0.97541009 0.22039774]\n",
      " [0.94495695 0.3271947 ]\n",
      " [0.90284967 0.42995636]\n",
      " [0.84960756 0.52741539]\n",
      " [0.78588726 0.6183698 ]\n",
      " [0.71247462 0.70169788]\n",
      " [0.63027505 0.77637192]\n",
      " [0.54030231 0.84147098]]\n"
     ]
    }
   ],
   "source": [
    "#uniformly spaced 1000 points between [0,1]\n",
    "x_arr = np.linspace(0,1,10)\n",
    "\n",
    "print(\"x_arr\\n\", x_arr)\n",
    "print()\n",
    "cosx_arr = np.cos(x_arr)\n",
    "sinx_arr = np.sin(x_arr)\n",
    "final_arr = np.array([cosx_arr[0], sinx_arr[0]])\n",
    "\n",
    "print(\"cos array values\\n\", cosx_arr)\n",
    "print()\n",
    "print(\"sin array values\\n\", sinx_arr)\n",
    "print()\n",
    "\n",
    "for i in range(1,10):\n",
    "    final_arr = np.vstack((final_arr, [cosx_arr[i], sinx_arr[i]]))\n",
    "\n",
    "print(\"tall array\\n\", final_arr)"
   ]
  },
  {
   "cell_type": "markdown",
   "id": "388a60e9",
   "metadata": {},
   "source": [
    "# Problem: 9\n",
    "\n",
    "Create a random $3×5$ array using the `np.random.rand(3 ,5)` function and compute: the sum of all the entries, the sum of the rows, and the sum of the columns."
   ]
  },
  {
   "cell_type": "code",
   "execution_count": null,
   "id": "6dfa35a5",
   "metadata": {},
   "outputs": [
    {
     "name": "stdout",
     "output_type": "stream",
     "text": [
      "[[0.51139897 0.12020929 0.30225213 0.35911897 0.06395241]\n",
      " [0.51837448 0.40550545 0.31971321 0.71155074 0.68673821]\n",
      " [0.752368   0.03729091 0.63061675 0.70831308 0.85990879]]\n",
      "\n",
      "sum of all entries 6.987311381113502\n",
      "\n",
      "Sum of all rows [1.35693177 2.64188208 2.98849753]\n",
      "Sum of all columns [1.78214144 0.56300565 1.25258208 1.7789828  1.61059941]\n"
     ]
    }
   ],
   "source": [
    "# random array\n",
    "rand_arr = np.random.rand(3,5)\n",
    "\n",
    "print(rand_arr)\n",
    "print()\n",
    "print(\"sum of all entries\", np.sum(rand_arr))\n",
    "print()\n",
    "\n",
    "print(\"Sum of all rows\", np.sum(rand_arr, axis = 1))\n",
    "print(\"Sum of all columns\", np.sum(rand_arr, axis = 0))"
   ]
  },
  {
   "cell_type": "markdown",
   "id": "b0eabd51",
   "metadata": {},
   "source": [
    "## Problem: 10\n",
    "\n",
    "Create a random $5×5$ array using the function `np.random.rand(5, 5)`. Then sort the rows according to the second column."
   ]
  },
  {
   "cell_type": "code",
   "execution_count": 162,
   "id": "e689c2af",
   "metadata": {},
   "outputs": [
    {
     "name": "stdout",
     "output_type": "stream",
     "text": [
      "random array\n",
      " [[0.79496431 0.08912342 0.74129839 0.21698324 0.34158039]\n",
      " [0.80480247 0.14071515 0.38780022 0.4289062  0.49490134]\n",
      " [0.93993816 0.94177453 0.1514763  0.05892977 0.94418137]\n",
      " [0.71210467 0.04234071 0.90364252 0.79004076 0.43101952]\n",
      " [0.23124496 0.07896001 0.40608571 0.46474673 0.15865   ]]\n",
      "\n",
      "sorted_rand_arr\n",
      " [[0. 0. 0. 0. 0.]\n",
      " [0. 0. 0. 0. 0.]\n",
      " [0. 0. 0. 0. 0.]\n",
      " [0. 0. 0. 0. 0.]\n",
      " [0. 0. 0. 0. 0.]]\n",
      "\n",
      "Colum 2 of the random array\n",
      " [0.08912342 0.14071515 0.94177453 0.04234071 0.07896001]\n",
      "\n",
      "sorted array of the column 2\n",
      " [0.04234071 0.07896001 0.08912342 0.14071515 0.94177453]\n",
      "sorted array using the second column\n",
      " [[0.71210467 0.04234071 0.90364252 0.79004076 0.43101952]\n",
      " [0.23124496 0.07896001 0.40608571 0.46474673 0.15865   ]\n",
      " [0.79496431 0.08912342 0.74129839 0.21698324 0.34158039]\n",
      " [0.80480247 0.14071515 0.38780022 0.4289062  0.49490134]\n",
      " [0.93993816 0.94177453 0.1514763  0.05892977 0.94418137]]\n"
     ]
    }
   ],
   "source": [
    "# random array\n",
    "rand_arr = np.random.rand(5,5)\n",
    "# Initialize sorted random array to all zeroes\n",
    "sorted_rand_arr = np.zeros((5,5))\n",
    "\n",
    "print(\"random array\\n\", rand_arr)\n",
    "print()\n",
    "\n",
    "print(\"sorted_rand_arr\\n\", sorted_rand_arr)\n",
    "print()\n",
    "\n",
    "column_2_arr = rand_arr[:, 1]\n",
    "print(\"Colum 2 of the random array\\n\", column_2_arr)\n",
    "print()\n",
    "\n",
    "sort_column_2_arr = np.sort(column_2_arr)\n",
    "print(\"sorted array of the column 2\\n\", sort_column_2_arr)\n",
    "\n",
    "for i in range(0,5):\n",
    "    row_index = np.where(rand_arr == sort_column_2_arr[i])[0]\n",
    "    #print(\"row index:\", row_index)\n",
    "    #print()\n",
    "    sorted_rand_arr[i] = rand_arr[row_index]\n",
    "\n",
    "print(\"sorted array using the second column\\n\", sorted_rand_arr)"
   ]
  },
  {
   "cell_type": "code",
   "execution_count": null,
   "id": "5167e3fd",
   "metadata": {},
   "outputs": [],
   "source": []
  }
 ],
 "metadata": {
  "kernelspec": {
   "display_name": "jupyter_env",
   "language": "python",
   "name": "python3"
  },
  "language_info": {
   "codemirror_mode": {
    "name": "ipython",
    "version": 3
   },
   "file_extension": ".py",
   "mimetype": "text/x-python",
   "name": "python",
   "nbconvert_exporter": "python",
   "pygments_lexer": "ipython3",
   "version": "3.9.6"
  }
 },
 "nbformat": 4,
 "nbformat_minor": 5
}
