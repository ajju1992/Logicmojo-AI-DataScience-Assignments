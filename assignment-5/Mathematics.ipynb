{
 "cells": [
  {
   "cell_type": "markdown",
   "id": "39e18a5e",
   "metadata": {},
   "source": [
    "# Assignment-5\n",
    "\n",
    "This notebook contains the questions to test the proficiency in `Mathematics for machine learning`.\n",
    "\n",
    "### Date: 16th June, 2025\n",
    "\n",
    "### Steps to solve and upload the assignment \n",
    "\n",
    "- Download the notebook in your local machine.\n",
    "- Solve the coding questions in the notebook and save it.\n",
    "- Rename the file as `Assignment-05-<your_name>_<your_surname>.ipynb`. For example if your name is Dipika Chopra then name the file as `Assignment-05-Dipika_Chopra.ipynb`.\n",
    "- For numerical problems you can either solve the same using `LaTeX` in markdown cell of your soluton notebook or you can solve it on paper and upload the scan pdf copy of the solution.\n",
    "- If you are solving it on paper then name the pdf file of the scan copy of the solution as `Assignment-05-<your_name>_<your_surname>.pdf`. For example if your name is Akash Kumar then name the file as `Assignment-05-Akash_Kumar.pdf`.\n",
    "- Upload the solved notebook and the scanned pdf copy of the solutions in the google drive location: https://drive.google.com/drive/folders/1rlxuCIMhIk3qIM4BIWGjTwe7o6pojKKS?usp=drive_link\n",
    "<h3><span style=\"color:red\"> Deadline: 4th July, 2025 </span></h3>"
   ]
  },
  {
   "cell_type": "markdown",
   "id": "3060d16c",
   "metadata": {},
   "source": [
    "<h5><span style=\"color:blue\"> <b>Instructions:</b> Please answer all the questions. For problems requiring numerical solutions, you are encouraged to write code in Python to compute the results. Show your steps and explain your reasoning. </span></h5>"
   ]
  },
  {
   "cell_type": "markdown",
   "id": "2b5b5a63",
   "metadata": {},
   "source": [
    "### Problem-1\n",
    "\n",
    "In a network, data packets are sent through a shared channel. Suppose there are 10 devices attempting to send data. In any given time slot, each device has a 20% chance of attempting to send a packet, independently of other devices. A collision occurs if two or more devices attempt to send a packet in the same time slot. What is the probability that in a given time slot, there will be no collisions?"
   ]
  },
  {
   "cell_type": "code",
   "execution_count": null,
   "id": "b8716ada",
   "metadata": {
    "vscode": {
     "languageId": "latex"
    }
   },
   "outputs": [],
   "source": [
    "Step -- 1:\n",
    "\n",
    "All devices are transmitting in a given time slot with 20 % probability.\n",
    "\n",
    "Step -- 2:\n",
    "\n",
    "P(no collision) = probability(when no device could transmit in a given time slot) + probability(only 1 device could transmit in a given time slot)\n",
    "\n",
    "Step -- 3:\n",
    "\n",
    "P(fail to send a packet in a given time slot) = 80% for each device\n",
    "\n",
    "Step -- 4:\n",
    "\n",
    "P(0 devices transmit) = (0.8)^10\n",
    "P(any 1 device out of 10 devices transmitted) = 10C1 * 0.2 * (0.8)^9\n",
    "\n",
    "P(no collison) = 0.107 + 0.268 = 0.375\n",
    "\n",
    "So there is 37.5 % chance of no collision in a given time slot."
   ]
  },
  {
   "cell_type": "markdown",
   "id": "7a96749a",
   "metadata": {},
   "source": [
    "### Problem-2\n",
    "\n",
    "A system uses 8-character passwords. Each character can be any lowercase letter (a-z), uppercase letter (A-Z), or digit (0-9).\n",
    "What is the probability that a randomly generated 8-character password contains at least one digit, given that character repetition is allowed?"
   ]
  },
  {
   "cell_type": "code",
   "execution_count": null,
   "id": "ea3a3083",
   "metadata": {
    "vscode": {
     "languageId": "latex"
    }
   },
   "outputs": [],
   "source": [
    "P(atleast one digit in the password) = 1 - P(no digit in the password)\n",
    "\n",
    "Step -- 1:\n",
    "\n",
    "Total number of available choices = 26 lower case letters + 26 upper case letters + 10 digits\n",
    "\n",
    "Total combinations possible when digits are allowed = 62^8(because here order matters and repetition is allowed)\n",
    "\n",
    "Step -- 2:\n",
    "\n",
    "Total combinations when no digit is included = 52^8\n",
    "\n",
    "P(no digit in the password) = 52^8/62^8\n",
    "\n",
    "P(atleast one digit in the password) = 1 - (52^8/62^8)"
   ]
  },
  {
   "cell_type": "markdown",
   "id": "b8f8f841",
   "metadata": {},
   "source": [
    "### Problem-3\n",
    "\n",
    "A software project has two modules, A and B. The probability that module A has a bug is 0.15, and the probability that module B has a bug is 0.10. The probability that both modules have bugs is 0.03.\n",
    "\n",
    "(a) What is the probability that module A has a bug, given that module B has a bug?\n",
    "\n",
    "(b) What is the probability that module B has a bug, given that module A does not have a bug?"
   ]
  },
  {
   "cell_type": "code",
   "execution_count": null,
   "id": "68f4096e",
   "metadata": {
    "vscode": {
     "languageId": "latex"
    }
   },
   "outputs": [],
   "source": [
    "a:\n",
    "\n",
    "P(A has bug/ B has a bug) = P(A intersection B)/ P(B)\n",
    "                          = 0.03/0.10\n",
    "                          = 0.3\n",
    "\n",
    "b:\n",
    "\n",
    "So P (A does not have a bug) = 1 - P(A has a bug) = 0.85\n",
    "\n",
    "Now P(B has a bug / A does not have a bug ) = P(B intersection with A complement)/P(A complement)\n",
    "\n",
    "P (B intersection with A complement) is nothing but P(B) - P(A intersection B) = 0.10 - 0.03\n",
    "\n",
    "P(B has a bug / A does not have a bug ) = 0.07/0.85 = 0.082"
   ]
  },
  {
   "cell_type": "markdown",
   "id": "05e5fb69",
   "metadata": {},
   "source": [
    "### Problem-4\n",
    "\n",
    "A robot uses a sensor to detect an obstacle. The sensor has a 95% chance of correctly detecting an obstacle when one is present (true positive rate). However, it also has a 2% chance of indicating an obstacle when there isn't one (false positive rate).\n",
    "In the robot's environment, obstacles are present 10% of the time.\n",
    "\n",
    "What is the probability that an obstacle is truly present, given that the sensor indicates an obstacle?"
   ]
  },
  {
   "cell_type": "code",
   "execution_count": null,
   "id": "e5a58e6f",
   "metadata": {
    "vscode": {
     "languageId": "latex"
    }
   },
   "outputs": [
    {
     "ename": "SyntaxError",
     "evalue": "invalid syntax (1748583888.py, line 1)",
     "output_type": "error",
     "traceback": [
      "\u001b[0;36m  Cell \u001b[0;32mIn[9], line 1\u001b[0;36m\u001b[0m\n\u001b[0;31m    Given info:\u001b[0m\n\u001b[0m          ^\u001b[0m\n\u001b[0;31mSyntaxError\u001b[0m\u001b[0;31m:\u001b[0m invalid syntax\n"
     ]
    }
   ],
   "source": [
    "Given info:\n",
    "\n",
    "P(obstacle) = 0.10\n",
    "P(Sensor detects obstacle/obstacle is there) = 0.95\n",
    "P(Sensor detects obstacle/ obstacle is not there) = 0.02\n",
    "\n",
    "From Bayes' theorem\n",
    "\n",
    "    P(A/B) = (P(B/A) * P(A))/P(B)\n",
    "\n",
    "P(obstacle is there/Sensor detects an obstacle) = (P(Sensor detects an obstacle/obstacle is there) * P(obstacle))/P(sensor detects an obstacle)\n",
    "P(Sensor detects an obstacle/obstacle is there) = (0.95 * 0.10)\n",
    "\n",
    "P(Sensor detects an obstacle) has to be derived from total probaility.\n",
    "\n",
    "B' = Sensor detects an obstacle\n",
    "A1 = Obstacle is present\n",
    "A2 = obstacle is not present\n",
    "\n",
    "P(Sensor dectes an obstacle) = P(Sensor detects an obstacle/obstacle is present) * P(obstacle is present) + \n",
    "                               P(Sensor detects an obstacle/obstacle is present) * P(obstacle is not present)\n",
    "                             = 0.95 * 0.10 + 0.95 * 0.90 \n",
    "                             = 0.113\n",
    "\n",
    "\n",
    "P(obstacle is there/Sensor detects an obstacle) = (0.95 * 0.10)/0.113 = 0.840\n",
    "\n"
   ]
  },
  {
   "cell_type": "markdown",
   "id": "d1540bbd",
   "metadata": {},
   "source": [
    "### Problem-5\n",
    "\n",
    "A spam filter uses a keyword \"money\" to identify spam emails.\n",
    "- 10% of all emails are spam.\n",
    "- If an email is spam, the word \"money\" appears in it 80% of the time.\n",
    "- If an email is not spam, the word \"money\" appears in it 5% of the time.\n",
    "\n",
    "If an email contains the word \"money\", what is the probability that it is spam?"
   ]
  },
  {
   "cell_type": "code",
   "execution_count": null,
   "id": "c34d33b6",
   "metadata": {
    "vscode": {
     "languageId": "latex"
    }
   },
   "outputs": [],
   "source": [
    "Given info:\n",
    "\n",
    "P(It's a spam mail) = 0.10\n",
    "P(money appears/email is a spam) = 0.80\n",
    "P(money appears/email is not a spam) = 0.05\n",
    "\n",
    "Again from Bayes' theorem\n",
    "\n",
    "P(email is a spam/ money appears) = (P(money appears/email is a spam).P(it's a spam mail))/P(money appears)\n",
    "\n",
    "From the law of total probaility:\n",
    "\n",
    "P(money appears) = P(money appears/ email is spam) * P(it's a spam mail) + \n",
    "                   P(money appears/ email is not a spam) * P(it is not a spam mail)\n",
    "\n",
    "                 = 0.80 * 0.10 + 0.05 * 0.90\n",
    "                 = 0.125\n",
    "\n",
    "\n",
    "P(email is a spam/ money appears) = (0.80 * 0.10) / 0.125\n",
    "                                  = 0.64"
   ]
  },
  {
   "cell_type": "markdown",
   "id": "cfbf13b7",
   "metadata": {},
   "source": [
    "### Problem-6\n",
    "\n",
    "A rare disease affects 1 in 10,000 people. A diagnostic test for this disease has a 99% true positive rate (correctly identifies the disease when present) and a 0.5% false positive rate (incorrectly indicates the disease when not present).\n",
    "\n",
    "If a randomly selected person tests positive for the disease, what is the probability that they actually have the disease?"
   ]
  },
  {
   "cell_type": "code",
   "execution_count": null,
   "id": "cd6da9ee",
   "metadata": {
    "vscode": {
     "languageId": "latex"
    }
   },
   "outputs": [],
   "source": [
    "Given info:\n",
    "\n",
    "P(disease affects a randomly selected person) =  0.0001\n",
    "P(detected positive/disease is also there) = 0.99\n",
    "P(detected positive/disease is not there) = 0.005\n",
    "\n",
    "P(disease is actually there/tested positive)\n",
    "  = (P(tested postive/disease is there) * P(disease is there is a randomly selected persion))/P(tested postitive)\n",
    "\n",
    "P(tested postive) = P(tested positive/disease is there)*P(disease is there) + \n",
    "                    P(tested positive/disease is not there)*P(disease is not there)\n",
    "\n",
    "P(tested positive) = 0.99 * 0.0001 + 0.005 * 0.9999\n",
    "\n",
    "P(disease is actually there/tested positive) = (0.99 * 0.0001)/(0.99 * 0.0001 + 0.005 * 0.9999)\n",
    "                                             = 0.0194"
   ]
  },
  {
   "cell_type": "markdown",
   "id": "c8efd95f",
   "metadata": {},
   "source": [
    "### Problem-7\n",
    "\n",
    "A batch of 500 microchips is produced. The probability that a single microchip is defective is 0.02.\n",
    "Let X be the number of defective microchips in a random sample of 20 microchips from this batch. Assume the sample is taken with replacement, or the batch is large enough that we can model this as independent trials.\n",
    "\n",
    "(a) What is the probability that exactly 3 microchips in the sample are defective?\n",
    "(b) What is the probability that at least 2 microchips in the sample are defective?"
   ]
  },
  {
   "cell_type": "code",
   "execution_count": null,
   "id": "2dddd4aa",
   "metadata": {
    "vscode": {
     "languageId": "latex"
    }
   },
   "outputs": [],
   "source": [
    "P(drawing the single defective chip) = 0.02\n",
    "P(drawing the single non-defective chip) = 1 - 0.02 = 0.98\n",
    "\n",
    "a:\n",
    "\n",
    "Since we want 3 defective microchips in the 20 microchips sample, there can be 20C3 ways of happening.\n",
    "\n",
    "P(of drawing exactly 3 defective chips in a given sample) = (0.2)^3 * (0.98)^17\n",
    "\n",
    "P(exactly 3 defective chips in a random sample) = 20C3 * (0.2)^3 * (0.98)^17\n",
    "\n",
    "b:\n",
    "\n",
    "P(X >= 2) = 1 - P(X < 2)\n",
    "          = 1 - [P(X = 0) + P(X = 1)]\n",
    "\n",
    "P(X = 0) = 20C0 * (0.2)^0 * (0.98)^20\n",
    "\n",
    "P(X = 1) = 20C1 * (0.2) * (0.98)^19\n",
    "\n",
    "P(X >=2) = 1 - [(20C0 * (0.2)^0 * (0.98)^20) + (20C1 * (0.2) * (0.98)^19)]"
   ]
  },
  {
   "cell_type": "markdown",
   "id": "d881d902",
   "metadata": {},
   "source": [
    "### Problem-8\n",
    "\n",
    "The time (in hours) until a critical server component fails follows an exponential distribution with a mean of 500 hours.\n",
    "\n",
    "(a) What is the probability that the component will last between 400 and 600 hours?\n",
    "\n",
    "(b) The component has already been running for 300 hours without failure. What is the probability that it will last for at least another 250 hours?"
   ]
  },
  {
   "cell_type": "markdown",
   "id": "94a87f03",
   "metadata": {},
   "source": [
    "### Problem-9\n",
    "\n",
    "The noise in a sensor's reading can be modeled by a Gaussian (Normal) distribution with a mean of 0 (bias) and a standard deviation of 0.5 units.\n",
    "\n",
    "(a) What is the probability that a sensor reading's noise is between -0.2 and 0.3 units?\n",
    "\n",
    "(b) If a reading is considered an \"outlier\" if its noise is more than 1.5 standard deviations away from the mean, what is the probability that a random reading is an outlier?"
   ]
  },
  {
   "cell_type": "markdown",
   "id": "78f10b6f",
   "metadata": {},
   "source": [
    "### Problem-10\n",
    "\n",
    "The latency (delay) in a specific network segment is observed to be normally distributed with a mean of 150 ms and a standard deviation of 20 ms.\n",
    "\n",
    "(a) What is the probability that a data packet experiences a latency greater than 180 ms?\n",
    "\n",
    "(b) Due to new QoS (Quality of Service) requirements, 90% of packets must arrive within a certain latency threshold. What is this threshold (in ms)?\n",
    "\n",
    "(c) If a network engineer defines \"critical latency\" as any latency exceeding 2.5 standard deviations above the mean, what is the probability that a packet experiences critical latency?"
   ]
  },
  {
   "cell_type": "markdown",
   "id": "130b34aa",
   "metadata": {},
   "source": [
    "### Problem-11\n",
    "\n",
    "The lifespan of a certain electronic component, due to manufacturing variations, is normally distributed with a mean of 2500 hours and a standard deviation of 300 hours.\n",
    "\n",
    "(a) A customer requires components that last at least 2000 hours. What percentage of manufactured components meet this requirement?\n",
    "\n",
    "(b) The manufacturer wants to provide a warranty such that only 1% of components fail before the warranty period ends. What should be the warranty period (in hours)?\n",
    "\n",
    "(c) If a batch of 10,000 components is produced, how many components are expected to have a lifespan between 2200 and 2800 hours?"
   ]
  },
  {
   "cell_type": "markdown",
   "id": "b3760971",
   "metadata": {},
   "source": [
    "### Problem-12\n",
    "The probability density function (pdf) of the triangular distribution is characterized by three points as shown in the figure below.\n",
    "\n",
    "<img src=\"https://upload.wikimedia.org/wikipedia/commons/4/45/Triangular_distribution_PMF.png\" alt=\"triangular distribution\" width=\"500\"/>\n",
    "\n",
    "(a) min value of the distribution,\n",
    "(b) max value of the distribution, and\n",
    "(c) mode of the distribution\n",
    "\n",
    "Note: $a \\leq c \\leq b$\n",
    "\n",
    "Create a class `TriangularDistribution` with attributes `min`, `max` and `mode`. You need to implement the following methods:\n",
    "\n",
    "- `pdf(x)`: returns the value of the pdf at point $x$.\n",
    "- `plot_pdf()`: plots the pdf in the range $[min , max]$\n",
    "- `cdf(x)`: returns the value of the cdf at point $x$ ; which denotes $P(X \\leq x)$\n",
    "- `plot_cdf()`: plots the cdf in the range $[min , max]$\n",
    "- `get_probability(x1, x2)`: returns the probability $P(x_1 \\leq X \\leq x_2)$, where $x_1 \\lt x_2$.\n",
    "\n",
    "Gracefully handle the possible errors and also the edge conditions when either $ a = c $ or $b = c$ in the distribution.\n",
    "\n",
    "Test your implementation."
   ]
  },
  {
   "cell_type": "code",
   "execution_count": null,
   "id": "8f4ea890",
   "metadata": {},
   "outputs": [
    {
     "ename": "ModuleNotFoundError",
     "evalue": "No module named 'matplotlib'",
     "output_type": "error",
     "traceback": [
      "\u001b[0;31m---------------------------------------------------------------------------\u001b[0m",
      "\u001b[0;31mModuleNotFoundError\u001b[0m                       Traceback (most recent call last)",
      "Cell \u001b[0;32mIn[2], line 1\u001b[0m\n\u001b[0;32m----> 1\u001b[0m \u001b[38;5;28;01mimport\u001b[39;00m\u001b[38;5;250m \u001b[39m\u001b[38;5;21;01mmatplotlib\u001b[39;00m\u001b[38;5;21;01m.\u001b[39;00m\u001b[38;5;21;01mpyplot\u001b[39;00m\u001b[38;5;250m \u001b[39m\u001b[38;5;28;01mas\u001b[39;00m\u001b[38;5;250m \u001b[39m\u001b[38;5;21;01mplt\u001b[39;00m\n\u001b[1;32m      2\u001b[0m \u001b[38;5;28;01mimport\u001b[39;00m\u001b[38;5;250m \u001b[39m\u001b[38;5;21;01mnumpy\u001b[39;00m\u001b[38;5;250m \u001b[39m\u001b[38;5;28;01mas\u001b[39;00m\u001b[38;5;250m \u001b[39m\u001b[38;5;21;01mnp\u001b[39;00m\n\u001b[1;32m      4\u001b[0m \u001b[38;5;28;01mclass\u001b[39;00m\u001b[38;5;250m \u001b[39m\u001b[38;5;21;01mTriangularDistribution\u001b[39;00m:\n",
      "\u001b[0;31mModuleNotFoundError\u001b[0m: No module named 'matplotlib'"
     ]
    }
   ],
   "source": [
    "import matplotlib.pyplot as plt\n",
    "import numpy as np\n",
    "\n",
    "class TriangularDistribution:\n",
    "    def __init__(self, min, max, mode):\n",
    "\n",
    "        if not (min <= mode <= max):\n",
    "            raise ValueError(\"Must satisfy min <= mode <= max\")\n",
    "        \n",
    "        if min == max:\n",
    "            raise ValueError(\"min and max cannot be equal\")\n",
    "        \n",
    "        self.min = min\n",
    "        self.max = max\n",
    "        self.mode = mode\n",
    "        \n",
    "        def pdf(self, x): \n",
    "\n",
    "            a, b, c = self.min, self.max, self.mode\n",
    "\n",
    "            if x < a or x > b:\n",
    "                return 0.0\n",
    "            elif a == c:\n",
    "                return 2 * (b - x) / ((b - a) * (b - a))\n",
    "            elif b == c:\n",
    "                return 2 * (x - a) / ((b - a) * (b - a))\n",
    "            elif x <= c:\n",
    "                return 2 * (x - a) / ((b - a) * (c - a))\n",
    "            else:\n",
    "                return 2 * (b - x) / ((b - a) * (b - c))\n",
    "        \n",
    "        def plot_pdf(self):\n",
    "\n",
    "            x_vals = np.linspace(self.min, self.max, 500)\n",
    "            y_vals = [self.pdf(x) for x in x_vals]\n",
    "            plt.figure(figsize=(8, 4))\n",
    "            plt.plot(x_vals, y_vals, label=\"PDF\", color=\"blue\")\n",
    "            plt.title(\"Triangular Distribution PDF\")\n",
    "            plt.xlabel(\"x\")\n",
    "            plt.ylabel(\"Density\")\n",
    "            plt.grid(True)\n",
    "            plt.legend()\n",
    "            plt.show()\n",
    "        \n",
    "        def cdf(self,x):\n",
    "\n",
    "            # CDR=F is nothing but area under the PDF or integrate the PDF\n",
    "            a, b, c = self.min, self.max, self.mode\n",
    "            if x <= a:\n",
    "                return 0.0\n",
    "            elif x >= b:\n",
    "                return 1.0\n",
    "            elif a == c:\n",
    "                return 1 - ((b - x)**2 / ((b - a)**2))\n",
    "            elif b == c:\n",
    "                return ((x - a)**2 / ((b - a)**2))\n",
    "            elif x <= c:\n",
    "                return ((x - a)**2 / ((b - a) * (c - a)))\n",
    "            else:\n",
    "                return 1 - ((b - x)**2 / ((b - a) * (b - c)))\n",
    "\n",
    "        def plot_cdf(self):\n",
    "            x_vals = np.linspace(self.min, self.max, 500)\n",
    "            y_vals = [self.cdf(x) for x in x_vals]\n",
    "            plt.figure(figsize=(8, 4))\n",
    "            plt.plot(x_vals, y_vals, label=\"CDF\", color=\"green\")\n",
    "            plt.title(\"Triangular Distribution CDF\")\n",
    "            plt.xlabel(\"x\")\n",
    "            plt.ylabel(\"Cumulative Probability\")\n",
    "            plt.grid(True)\n",
    "            plt.legend()\n",
    "            plt.show()\n",
    "\n",
    "        def get_probability(self, x1, x2):\n",
    "\n",
    "            # P(x1 <= X <= x2) = CDF(x2) - CDF(x1)\n",
    "            # P(X <= x2) is nothing but the CDF\n",
    "            # P(X >x1) = 1 - P(X <= x1)\n",
    "            # Assume x2 >= x1\n",
    "\n",
    "            return (self.cdf(x2) - self.cdf(x1))\n",
    "    "
   ]
  },
  {
   "cell_type": "code",
   "execution_count": 22,
   "id": "1e93ed99",
   "metadata": {},
   "outputs": [
    {
     "name": "stdout",
     "output_type": "stream",
     "text": [
      "PDF values:\n"
     ]
    },
    {
     "ename": "AttributeError",
     "evalue": "'TriangularDistribution' object has no attribute 'pdf'",
     "output_type": "error",
     "traceback": [
      "\u001b[0;31m---------------------------------------------------------------------------\u001b[0m",
      "\u001b[0;31mAttributeError\u001b[0m                            Traceback (most recent call last)",
      "Cell \u001b[0;32mIn[22], line 8\u001b[0m\n\u001b[1;32m      6\u001b[0m \u001b[38;5;28mprint\u001b[39m(\u001b[38;5;124m\"\u001b[39m\u001b[38;5;124mPDF values:\u001b[39m\u001b[38;5;124m\"\u001b[39m)\n\u001b[1;32m      7\u001b[0m \u001b[38;5;28;01mfor\u001b[39;00m x \u001b[38;5;129;01min\u001b[39;00m test_points:\n\u001b[0;32m----> 8\u001b[0m     \u001b[38;5;28mprint\u001b[39m(\u001b[38;5;124mf\u001b[39m\u001b[38;5;124m\"\u001b[39m\u001b[38;5;124mpdf(\u001b[39m\u001b[38;5;132;01m{\u001b[39;00mx\u001b[38;5;132;01m}\u001b[39;00m\u001b[38;5;124m) = \u001b[39m\u001b[38;5;132;01m{\u001b[39;00mdist\u001b[38;5;241m.\u001b[39mpdf(x)\u001b[38;5;132;01m:\u001b[39;00m\u001b[38;5;124m.4f\u001b[39m\u001b[38;5;132;01m}\u001b[39;00m\u001b[38;5;124m\"\u001b[39m)\n\u001b[1;32m     10\u001b[0m \u001b[38;5;66;03m# Test CDF at the same points\u001b[39;00m\n\u001b[1;32m     11\u001b[0m \u001b[38;5;28mprint\u001b[39m(\u001b[38;5;124m\"\u001b[39m\u001b[38;5;130;01m\\n\u001b[39;00m\u001b[38;5;124mCDF values:\u001b[39m\u001b[38;5;124m\"\u001b[39m)\n",
      "\u001b[0;31mAttributeError\u001b[0m: 'TriangularDistribution' object has no attribute 'pdf'"
     ]
    }
   ],
   "source": [
    "# Create a triangular distribution with a=0, b=10, c=4\n",
    "dist = TriangularDistribution(0, 10, 4)\n",
    "\n",
    "# Test PDF at a few points\n",
    "test_points = [0, 2, 4, 6, 10]\n",
    "print(\"PDF values:\")\n",
    "for x in test_points:\n",
    "    print(f\"pdf({x}) = {dist.pdf(x):.4f}\")\n",
    "\n",
    "# Test CDF at the same points\n",
    "print(\"\\nCDF values:\")\n",
    "for x in test_points:\n",
    "    print(f\"cdf({x}) = {dist.cdf(x):.4f}\")\n",
    "\n",
    "# Probability between 2 and 6\n",
    "p = dist.get_probability(2, 6)\n",
    "print(f\"\\nP(2 ≤ X ≤ 6) = {p:.4f}\")\n",
    "\n",
    "# Plot the PDF and CDF\n",
    "dist.plot_pdf()\n",
    "dist.plot_cdf()\n"
   ]
  },
  {
   "cell_type": "markdown",
   "id": "7f1d0597",
   "metadata": {},
   "source": [
    "### Problem-13\n",
    "\n",
    "The `rand5()` function which returns a uniform random integer within the range [1, 5], is defined as following:\n",
    "\n",
    "```python\n",
    "def rand5():\n",
    "    import numpy as np\n",
    "    return np.random.randint(1,6)\n",
    "```\n",
    "\n",
    "Write a function `rand7()` that will generate a uniform random integer within the range [1, 7] by only using `rand5()`. \n",
    "\n",
    "Note: You can call `rand5()` as many time as you want inside the function `rand7()`, but you can not use `np.random.randint(1, 8)` or any other built-in methods in python. "
   ]
  },
  {
   "cell_type": "code",
   "execution_count": null,
   "id": "9ceaa115",
   "metadata": {},
   "outputs": [],
   "source": [
    "### Write your code here\n"
   ]
  },
  {
   "cell_type": "markdown",
   "id": "e6b19c2f",
   "metadata": {},
   "source": [
    "### Problem-14\n",
    "\n",
    "A grayscale image can be represented as a matrix where the dimensions are (height, width). \n",
    "Let's consider a simplified scenario with two grayscale images, $A$ and $B$, both represented as 10×10 matrices where each element represents pixel intensity. Pixel intensity is an integer in the range [0-255].\n",
    "\n",
    "You want to create a blended image $C$ by combining $A$ and $B$ such that $C=w_1 A+w_2 B$. This represents a weighted average blend.\n",
    "Note that each element in the resultant matrix $C$ should also fall within the range [0, 255]. \n",
    "\n",
    "write the code of the function `blend_images(image_A, image_B, weight_A, weight_B)` that takes two matrices and two scalar weights and produces another matrix as an output by performing the above operation."
   ]
  },
  {
   "cell_type": "code",
   "execution_count": null,
   "id": "14aa7c52",
   "metadata": {},
   "outputs": [],
   "source": [
    "### Write your code here\n"
   ]
  },
  {
   "cell_type": "markdown",
   "id": "a866e35b",
   "metadata": {},
   "source": [
    "### Problem-15\n",
    "\n",
    "Calculate the eigen values and eigen vectors of the following matrices.\n",
    "\n",
    "$A = \\begin{bmatrix}\n",
    "5 & 2 \\\\\n",
    "2 & 2\n",
    "\\end{bmatrix}$      \n",
    "\n",
    "$B = \\begin{bmatrix}\n",
    "1 & 1 & 0\\\\\n",
    "0 & 2 & 0\\\\\n",
    "-1 & 1 & 3\n",
    "\\end{bmatrix}$"
   ]
  },
  {
   "cell_type": "markdown",
   "id": "db6baf67",
   "metadata": {},
   "source": []
  }
 ],
 "metadata": {
  "kernelspec": {
   "display_name": "Python 3",
   "language": "python",
   "name": "python3"
  },
  "language_info": {
   "codemirror_mode": {
    "name": "ipython",
    "version": 3
   },
   "file_extension": ".py",
   "mimetype": "text/x-python",
   "name": "python",
   "nbconvert_exporter": "python",
   "pygments_lexer": "ipython3",
   "version": "3.9.6"
  }
 },
 "nbformat": 4,
 "nbformat_minor": 5
}
