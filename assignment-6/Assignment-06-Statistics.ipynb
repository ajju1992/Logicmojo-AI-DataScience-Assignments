{
 "cells": [
  {
   "cell_type": "markdown",
   "id": "c187da20",
   "metadata": {},
   "source": [
    "# Assignment-6\n",
    "\n",
    "This notebook contains the questions to test the proficiency in `Statistics`.\n",
    "\n",
    "### Date: 28th June, 2025\n",
    "\n",
    "### Steps to solve and upload the assignment \n",
    "\n",
    "- Download the notebook in your local machine.\n",
    "- Solve the questions in the notebook and save it.\n",
    "- Rename the file as `Assignment-06-<your_name>_<your_surname>.ipynb`. For example if your name is Dipika Chopra then name the file as `Assignment-06-Dipika_Chopra.ipynb`.\n",
    "- For numerical problems you can either solve the same using using python in the solution notebook or you can solve it on paper and upload the scan pdf copy of the solution. \n",
    "- If you are solving it on paper then name the pdf file of the scan copy of the solution as `Assignment-06-<your_name>_<your_surname>.pdf`. For example if your name is Akash Kumar then name the file as `Assignment-06-Akash_Kumar.pdf`.\n",
    "- Upload the solved notebook and the scanned pdf copy of the solutions in the google drive location: https://drive.google.com/drive/folders/1VW5Z6l5r0mQTFbvvlhNNHnIlJ8A0yG5c?usp=sharing\n",
    "<h3><span style=\"color:red\"> Deadline: 19th July, 2025 </span></h3>"
   ]
  },
  {
   "cell_type": "markdown",
   "id": "3649d872",
   "metadata": {},
   "source": [
    "<h5><span style=\"color:blue\"> <b>Instructions:</b> Please answer all the questions. For problems requiring numerical solutions, you are encouraged to write code in Python to compute the results. Show your steps and explain your reasoning. </span></h5>"
   ]
  },
  {
   "cell_type": "markdown",
   "id": "1c96ba7f",
   "metadata": {},
   "source": [
    "### Problem-1\n",
    "\n",
    "A startup company with 20 employees recorded their annual salaries (in INR Lakhs):\n",
    "`[6.5, 7.2, 8.0, 6.8, 9.5, 7.0, 15.0, 7.5, 8.2, 6.9, 7.8, 10.5, 7.1, 8.5, 6.7, 7.3, 7.9, 9.0, 8.8, 7.6]`\n",
    "\n",
    "(a) Calculate the mean, median, and mode of the salaries.\n",
    "\n",
    "(b) Determine the range, variance, and standard deviation of the salaries.\n",
    "\n",
    "(c) Calculate the Interquartile Range (IQR). What does the IQR tell you about the salary distribution?\n",
    "\n",
    "(d) Construct a box plot for the salaries. Identify any potential outliers.\n"
   ]
  },
  {
   "cell_type": "markdown",
   "id": "922ddf1a",
   "metadata": {},
   "source": [
    "Arranging data in ascending order:\n",
    "[6.5, 6.7, 6.8, 6.9, 7.0, 7.1, 7.2, 7.3, 7.5, 7.6, 7.8, 7.9, 8.0, 8.2, 8.5, 8.8, 9.0, 9.5, 10.5, 15.0]\n",
    "\n",
    "a)\n",
    "\n",
    "    Mean = Sum of annual salaries/20 = 7.865\n",
    "\n",
    "    Median = (10th value + 11th value)/2\n",
    "        = (7.6 + 7.8)/2\n",
    "        = 7.7\n",
    "\n",
    "    Mode = No mode because every annual salay appears once in the distribution\n",
    "\n",
    "b)\n",
    "    Range = Max - Min\n",
    "        = 15 - 6.5\n",
    "        = 8.5\n",
    "\n",
    "    Variance = Sum of all squared deviations/20\n",
    "            = 70.05/20\n",
    "            = 3.5\n",
    "    \n",
    "    Standard deviation = 1.871\n",
    "\n",
    "c)\n",
    "\n",
    "    Q1 = Median of the lower half\n",
    "       = In lower half there are 10 values\n",
    "       = (7.0 + 7.1)/2\n",
    "       = 7.05\n",
    "    \n",
    "    Q2 = Median of the second half\n",
    "       = 8.5 + 8.8/2 = 8.65\n",
    "\n",
    "    IQR = Q3 - Q1\n",
    "        = 1.60\n",
    "    \n",
    "    IQR tells about the measure of spread of middle half of the data\n",
    "    Here the middle half spread is just 1.60 which suggests that data around the median is is not widely spread.\n",
    "    Hence salaries of the employees are fairly clustered around 7.7 LPA\n",
    "\n",
    "d) After analyzing below box plot, potential outlier is 15 LPA.\n"
   ]
  },
  {
   "cell_type": "code",
   "execution_count": 2,
   "id": "1dc3e4c1",
   "metadata": {},
   "outputs": [
    {
     "data": {
      "image/png": "[encoded data removed]",
      "text/plain": [
       "<Figure size 600x500 with 1 Axes>"
      ]
     },
     "metadata": {},
     "output_type": "display_data"
    }
   ],
   "source": [
    "import matplotlib.pyplot as plt\n",
    "\n",
    "# Data\n",
    "salaries = [6.5, 7.2, 8.0, 6.8, 9.5, 7.0, 15.0, 7.5, 8.2, 6.9,\n",
    "            7.8, 10.5, 7.1, 8.5, 6.7, 7.3, 7.9, 9.0, 8.8, 7.6]\n",
    "\n",
    "# Create box plot\n",
    "plt.figure(figsize=(6, 5))\n",
    "plt.boxplot(salaries, vert=True, patch_artist=True, showfliers=True,\n",
    "            boxprops=dict(facecolor='lightblue', color='black'),\n",
    "            medianprops=dict(color='red', linewidth=2),\n",
    "            whiskerprops=dict(color='black'),\n",
    "            capprops=dict(color='black'),\n",
    "            flierprops=dict(marker='o', markerfacecolor='orange', markersize=8))\n",
    "\n",
    "# Add title and labels\n",
    "plt.title(\"Box Plot of Salaries (Tukey's Method)\")\n",
    "plt.ylabel(\"Salary\")\n",
    "\n",
    "# Show plot\n",
    "plt.grid(axis='y', linestyle='--', alpha=0.7)\n",
    "plt.tight_layout()\n",
    "plt.show()\n",
    "\n"
   ]
  },
  {
   "cell_type": "markdown",
   "id": "fea186a2",
   "metadata": {},
   "source": [
    "### Problem-2\n",
    "\n",
    "A tech company conducted a customer satisfaction survey, rating their latest product on a scale of 1 to 10 (10 being highly satisfied). The scores from 30 randomly selected customers are:\n",
    "[7, 8, 9, 6, 7, 8, 10, 5, 7, 8, 9, 7, 6, 8, 7, 9, 10, 6, 7, 8, 5, 9, 8, 7, 6, 7, 8, 9, 7, 8]\n",
    "\n",
    "(a) Create a frequency distribution table for these scores.\n",
    "\n",
    "(b) Plot a histogram of the customer satisfaction scores. Describe the shape of the distribution (e.g., symmetric, skewed).\n",
    "\n",
    "(c) Calculate the Pearson's (first and second) coefficients of skewness for this data. Interpret the values.\n",
    "\n",
    "(d) Calculate the excess kurtosis for this data using sample kurtosis formula. What does the kurtosis value suggest about the tails of the distribution?"
   ]
  },
  {
   "cell_type": "markdown",
   "id": "10e1946d",
   "metadata": {},
   "source": [
    "| Score | Frequency |\n",
    "|-------|-----------|\n",
    "|   5   |     2     |\n",
    "|   6   |     4     |\n",
    "|   7   |     9     |\n",
    "|   8   |     8     |\n",
    "|   9   |     5     |\n",
    "|  10   |     2     |\n"
   ]
  },
  {
   "cell_type": "code",
   "execution_count": 8,
   "id": "50f7e20b",
   "metadata": {},
   "outputs": [
    {
     "data": {
      "image/png": "[encoded data removed]",
      "text/plain": [
       "<Figure size 800x500 with 1 Axes>"
      ]
     },
     "metadata": {},
     "output_type": "display_data"
    },
    {
     "name": "stdout",
     "output_type": "stream",
     "text": [
      " Distribution is rightly skewed because MEAN > MEDIAN > MODE\n"
     ]
    }
   ],
   "source": [
    "import matplotlib.pyplot as plt\n",
    "\n",
    "# Data\n",
    "scores = [7, 8, 9, 6, 7, 8, 10, 5, 7, 8, 9, 7, 6, 8, 7, 9, 10, 6, 7, 8,\n",
    "          5, 9, 8, 7, 6, 7, 8, 9, 7, 8]\n",
    "\n",
    "# Plot\n",
    "plt.figure(figsize=(8, 5))\n",
    "plt.hist(scores, bins=range(5, 12), edgecolor='black', color='skyblue', rwidth=0.9)\n",
    "plt.title('Histogram of Customer Satisfaction Scores')\n",
    "plt.xlabel('Satisfaction Score')\n",
    "plt.ylabel('Frequency')\n",
    "plt.grid(axis='y', linestyle='--', alpha=0.7)\n",
    "plt.tight_layout()\n",
    "plt.show()\n",
    "\n",
    "print(\" Distribution is rightly skewed because MEAN > MEDIAN > MODE\")"
   ]
  },
  {
   "cell_type": "markdown",
   "id": "6ae201b9",
   "metadata": {},
   "source": [
    "c)\n",
    "\n",
    "Assuming the sample is to be of a larger population, standard_dev = s = 1.631\n",
    "\n",
    "Pearson's first coeffiecient = (mean - mode)/s\n",
    "                             = 0.408\n",
    "                    \n",
    "Pearson's Second coeffiecient = 3 * (mean - Median)/s\n",
    "                             = 0.077\n",
    "                \n",
    "Both coefficients lies between -0.5 to 0.5, hence distribution is approximately symmetric.\n"
   ]
  },
  {
   "cell_type": "markdown",
   "id": "0e60aabe",
   "metadata": {},
   "source": [
    "d)\n",
    "\n",
    "Using the formula, excess kurtosis = -1.587\n",
    "\n",
    "Distribution has light tails, low probability of outliers\n"
   ]
  },
  {
   "cell_type": "markdown",
   "id": "060b1079",
   "metadata": {},
   "source": [
    "### Problem-3\n",
    "\n",
    "A marketing team wants to understand the relationship between their monthly advertising expenditure (in INR Lakhs) and corresponding sales revenue (in INR Lakhs) over the last 10 months.\n",
    "\n",
    "| Month | Advertising Spend (X) | Sales Revenue (Y) |\n",
    "|-------|-----------------------|-------------------|\n",
    "|     1 |                     5 |                52 |\n",
    "|     2 |                     7 |                65 |\n",
    "|     3 |                     6 |                60 |\n",
    "|     4 |                     8 |                70 |\n",
    "|     5 |                     5 |                55 |\n",
    "|     6 |                     9 |                75 |\n",
    "|     7 |                     7 |                68 |\n",
    "|     8 |                    10 |                80 |\n",
    "|     9 |                     6 |                58 |\n",
    "|    10 |                     8 |                72 |\n",
    "\n",
    "\n",
    "(a) Calculate the covariance between advertising spend and sales revenue.\n",
    "\n",
    "(b) Plot Sales Revenue vs Advertising spent.\n",
    "\n",
    "(c) Calculate the Pearson correlation coefficient between advertising spend and sales revenue.\n",
    "\n",
    "(d) Interpret the meaning of both the covariance and the correlation coefficient in the context of this data."
   ]
  },
  {
   "cell_type": "markdown",
   "id": "72b7d278",
   "metadata": {},
   "source": [
    "X_mean = 7.1 and Y_mean = 65.5\n",
    "\n",
    "| Month | X  | Y  | X - 𝑋̄ | Y - 𝑌̄ | (X - 𝑋̄)(Y - 𝑌̄) |\n",
    "|-------|----|----|--------|--------|------------------|\n",
    "| 1     | 5  | 52 | -2.1   | -13.5  | 28.35            |\n",
    "| 2     | 7  | 65 | -0.1   | -0.5   | 0.05             |\n",
    "| 3     | 6  | 60 | -1.1   | -5.5   | 6.05             |\n",
    "| 4     | 8  | 70 | 0.9    | 4.5    | 4.05             |\n",
    "| 5     | 5  | 55 | -2.1   | -10.5  | 22.05            |\n",
    "| 6     | 9  | 75 | 1.9    | 9.5    | 18.05            |\n",
    "| 7     | 7  | 68 | -0.1   | 2.5    | -0.25            |\n",
    "| 8     | 10 | 80 | 2.9    | 14.5   | 42.05            |\n",
    "| 9     | 6  | 58 | -1.1   | -7.5   | 8.25             |\n",
    "| 10    | 8  | 72 | 0.9    | 6.5    | 5.85             |\n",
    "|       |    |    |        |        | **Σ = 134.5**     |\n",
    "\n",
    "\n",
    "Cov = 134.5/10 = 13.45\n"
   ]
  },
  {
   "cell_type": "code",
   "execution_count": 9,
   "id": "5afa6097",
   "metadata": {},
   "outputs": [
    {
     "data": {
      "image/png": "[encoded data removed]",
      "text/plain": [
       "<Figure size 800x500 with 1 Axes>"
      ]
     },
     "metadata": {},
     "output_type": "display_data"
    }
   ],
   "source": [
    "import matplotlib.pyplot as plt\n",
    "\n",
    "# Data\n",
    "advertising_spend = [5, 7, 6, 8, 5, 9, 7, 10, 6, 8]\n",
    "sales_revenue = [52, 65, 60, 70, 55, 75, 68, 80, 58, 72]\n",
    "\n",
    "# Create scatter plot\n",
    "plt.figure(figsize=(8, 5))\n",
    "plt.scatter(advertising_spend, sales_revenue, color='teal', edgecolor='black')\n",
    "\n",
    "# Labels and title\n",
    "plt.title('Sales Revenue vs Advertising Spend', fontsize=14)\n",
    "plt.xlabel('Advertising Spend (INR Lakhs)', fontsize=12)\n",
    "plt.ylabel('Sales Revenue (INR Lakhs)', fontsize=12)\n",
    "\n",
    "# Grid and show\n",
    "plt.grid(True, linestyle='--', alpha=0.5)\n",
    "plt.tight_layout()\n",
    "plt.show()\n"
   ]
  },
  {
   "cell_type": "markdown",
   "id": "f9b19074",
   "metadata": {},
   "source": [
    "c)\n",
    "\n",
    "corr_coeff = COV/(n * std_dev_x * std_dev_y)\n",
    "           = 0.9859\n",
    "\n"
   ]
  },
  {
   "cell_type": "markdown",
   "id": "f10a4204",
   "metadata": {},
   "source": [
    "d)\n",
    "\n",
    "COV and correlation coeff tells that spending on adds has a strong positive linear relationship with the sales revenue.\n",
    "\n",
    "If you spend more on adds, high chance of getting consistent sales revenues."
   ]
  },
  {
   "cell_type": "markdown",
   "id": "6f4d1031",
   "metadata": {},
   "source": [
    "### Problem-4\n",
    "\n",
    "A traffic department claims that the average daily commute time for residents in a certain city is 45 minutes. A researcher believes this claim is too low and collects data from a random sample of 100 residents. The sample mean commute time is 48 minutes with a standard deviation of 12 minutes.\n",
    "\n",
    "(a) Formulate the null and alternative hypotheses for this scenario.\n",
    "\n",
    "(b) Construct a 95% confidence interval for the true average daily commute time.\n",
    "\n",
    "(c) Based on the confidence interval, what can you conclude about the traffic department's claim?"
   ]
  },
  {
   "cell_type": "markdown",
   "id": "c237135c",
   "metadata": {},
   "source": [
    "a)\n",
    "\n",
    "Say average daily commute time in a cetain city = $\\mu$.\n",
    "\n",
    "H0: $\\mu$ = 45 minutes.\n",
    "\n",
    "Ha: $\\mu$ > 45 minutes."
   ]
  },
  {
   "cell_type": "markdown",
   "id": "0def6719",
   "metadata": {},
   "source": [
    "b)\n",
    "\n",
    "For 95% confidence level,\n",
    "\n",
    "Significance level $\\alpha$ = 1 - 0.95 = 0.05\n",
    "\n",
    "sample mean = $\\bar{x}$ = 48 minutes\n",
    "\n",
    "Standard deviation = s = 12 miniutes\n",
    "\n",
    "Since the sample size is sufficiently large, hence we can apply Z-test for our hypothesis testing.\n",
    "\n",
    "Confidence interval = CI = \n",
    "\n",
    "$$\n",
    "\\bar{x} \\pm z_{\\alpha/2} \\cdot \\frac{s}{\\sqrt{n}} = 48 \\pm 1.96 \\cdot \\frac{12}{\\sqrt{100}} = (45.648,\\ 50.352)\n",
    "$$\n",
    "\n",
    "\n",
    "\n"
   ]
  },
  {
   "cell_type": "markdown",
   "id": "c0fc5462",
   "metadata": {},
   "source": [
    "c)\n",
    "\n",
    "Traffic department claim is underestimated, the probability that the average commute time in a certain city is > 45 minutes is 95%"
   ]
  },
  {
   "cell_type": "markdown",
   "id": "a9967414",
   "metadata": {},
   "source": [
    "### Problem-5\n",
    "\n",
    "A manufacturing company wants to estimate the average number of units produced per hour by a new machine. They take 36 random observations and find the sample mean to be 150 units with a sample standard deviation of 15 units.\n",
    "\n",
    "(a) What is the point estimate for the true average number of units produced per hour?\n",
    "\n",
    "(b) Construct a 99% confidence interval for the true average number of units produced per hour.\n",
    "\n",
    "(c) If the company wants to be 99% confident that their estimate is within 3 units of the true mean, what sample size would they need (assuming the same standard deviation)?"
   ]
  },
  {
   "cell_type": "markdown",
   "id": "f121a585",
   "metadata": {},
   "source": [
    "a)\n",
    "\n",
    "Point estimate is nothing but the mean of the sampled data = 150 units\n",
    "\n",
    "b)\n",
    "\n",
    "For 99% confidence level,\n",
    "\n",
    "Significance level $\\alpha$ = 1 - 0.99 = 0.01\n",
    "\n",
    "sample mean = $\\bar{x}$ = 150 units\n",
    "\n",
    "Standard deviation = s = 15 units\n",
    "\n",
    "Since the sample size is sufficiently large, hence we can apply Z-test for our hypothesis testing.\n",
    "\n",
    "Confidence interval = CI = \n",
    "\n",
    "$$\n",
    "\\bar{x} \\pm z_{\\alpha/2} \\cdot \\frac{s}{\\sqrt{n}} = 150 \\pm 2.58 \\cdot \\frac{15}{\\sqrt{100}} = (143.56,\\ 156.44)\n",
    "$$\n",
    "\n",
    "c)\n",
    "\n",
    "If the margin of error say E is within 3 units of the true mean then E = 3\n",
    "\n",
    "Then \n",
    "\n",
    "The formula for required sample size \\( n \\) is:\n",
    "\n",
    "$$\n",
    "n = \\left( \\frac{z_{\\alpha/2} \\cdot s}{E} \\right)^2\n",
    "$$\n",
    "\n",
    "Substituting the known values:\n",
    "\n",
    "$$\n",
    "n = \\left( \\frac{2.576 \\cdot 15}{3} \\right)^2 = \\left( \\frac{38.64}{3} \\right)^2 = (12.88)^2 \\approx 166.05\n",
    "$$\n",
    "\n",
    "Since sample size must be a whole number, we round up:\n",
    "\n",
    "$$\n",
    "n = 167\n",
    "$$\n",
    "\n",
    "Therefore, the company needs to sample at least **167 observations** to estimate the mean within ±3 units at 99% confidence.\n",
    "\n"
   ]
  },
  {
   "cell_type": "markdown",
   "id": "28c7a27a",
   "metadata": {},
   "source": [
    "### Problem-6\n",
    "\n",
    "A website designer believes that a new website redesign will increase the average time users spend on the site. Before the redesign, the average time spent was 3.5 minutes. After the redesign, a random sample of 50 users showed an average time of 3.8 minutes with a standard deviation of 1.0 minute.\n",
    "\n",
    "(a) Perform a one-sided hypothesis test at a 0.05 significance level to determine if the redesign significantly increased the average time spent.\n",
    "\n",
    "(b) State your null and alternative hypotheses, calculate the test statistic, and determine the p-value.\n",
    "\n",
    "(c) What is your conclusion regarding the website redesign's impact?"
   ]
  },
  {
   "cell_type": "markdown",
   "id": "90c45610",
   "metadata": {},
   "source": [
    "A website designer believes that a new website redesign will increase the average time users spend on the site. Before the redesign, the average time spent was **3.5 minutes**.\n",
    "\n",
    "After the redesign, a random sample of **50 users** showed:\n",
    "- Sample mean time spent: **3.8 minutes**\n",
    "- Sample standard deviation: **1.0 minute**\n",
    "- Significance level: \\( \\alpha = 0.05 \\)\n",
    "\n",
    "\n",
    "We perform a **one-sided (right-tailed)** test:\n",
    "\n",
    "- Null Hypothesis: \\( H_0: \\mu = 3.5 \\)\n",
    "- Alternative Hypothesis: \\( H_1: \\mu > 3.5 \\)\n",
    "\n",
    "\n",
    "We use a **one-sample t-test** because the population standard deviation is **not given**.\n",
    "\n",
    "Test statistic:\n",
    "\n",
    "\\[\n",
    "t = \\frac{\\bar{x} - \\mu_0}{s / \\sqrt{n}} = \\frac{3.8 - 3.5}{1 / \\sqrt{50}} = \\frac{0.3}{0.1414} \\approx 2.12\n",
    "\\]\n",
    "\n",
    "Degrees of freedom: \\( df = n - 1 = 49 \\)\n",
    "\n",
    "We now find the **p-value** using the t-distribution:\n",
    "\\[\n",
    "\\text{p-value} = P(T > 2.12) \\approx 0.019\n",
    "\\]\n",
    "\n",
    "\n",
    "- Since \\( \\text{p-value} = 0.019 < \\alpha = 0.05 \\), we **reject the null hypothesis**.\n",
    "- There is **sufficient evidence** to conclude that the website redesign has **significantly increased** the average time users spend on the site.\n",
    "\n",
    "\n"
   ]
  },
  {
   "cell_type": "markdown",
   "id": "b516b37d",
   "metadata": {},
   "source": [
    "### Problem-7\n",
    "\n",
    "A company implemented a new training program to improve employee productivity. To assess its effectiveness, 15 employees' productivity scores were recorded before and after the training program. The scores are as follows:\n",
    "\n",
    "| Employee | Before Training | After Training |\n",
    "|----------|-----------------|----------------|\n",
    "|        1 |              65 |             70 |\n",
    "|        2 |              70 |             72 |\n",
    "|        3 |              60 |             68 |\n",
    "|        4 |              75 |             73 |\n",
    "|        5 |              80 |             85 |\n",
    "|        6 |              68 |             70 |\n",
    "|        7 |              72 |             75 |\n",
    "|        8 |              62 |             65 |\n",
    "|        9 |              78 |             80 |\n",
    "|       10 |              70 |             72 |\n",
    "|       11 |              66 |             69 |\n",
    "|       12 |              73 |             76 |\n",
    "|       13 |              64 |             67 |\n",
    "|       14 |              71 |             74 |\n",
    "|       15 |              69 |             71 |\n",
    "\n",
    "(a) State the null and alternative hypotheses to test if the training program significantly improved productivity.\n",
    "\n",
    "(b) Conduct a paired samples t-test at a 0.05 significance level. Calculate the test statistic and the p-value.\n",
    "\n",
    "(c) Based on your analysis, did the training program effectively improve employee productivity?"
   ]
  },
  {
   "cell_type": "markdown",
   "id": "3ae2c445",
   "metadata": {},
   "source": [
    "The company wants to determine whether a new training program significantly improves employee productivity. Productivity scores were recorded **before and after** training for **15 employees**.\n",
    "\n",
    "\n",
    "Let \\( d = \\text{After} - \\text{Before} \\) be the difference in scores.\n",
    "\n",
    "- Null Hypothesis: \\( H_0: \\mu_d = 0 \\) (no improvement)\n",
    "- Alternative Hypothesis: \\( H_1: \\mu_d > 0 \\) (productivity improved)\n",
    "\n",
    "This is a **one-sided** (right-tailed) **paired t-test**.\n",
    "\n",
    "\n",
    "| Employee | Before | After | \\( d = \\text{After} - \\text{Before} \\) |\n",
    "|----------|--------|-------|----------------------------------------|\n",
    "| 1        | 65     | 70    | 5                                      |\n",
    "| 2        | 70     | 72    | 2                                      |\n",
    "| 3        | 60     | 68    | 8                                      |\n",
    "| 4        | 75     | 73    | -2                                     |\n",
    "| 5        | 80     | 85    | 5                                      |\n",
    "| 6        | 68     | 70    | 2                                      |\n",
    "| 7        | 72     | 75    | 3                                      |\n",
    "| 8        | 62     | 65    | 3                                      |\n",
    "| 9        | 78     | 80    | 2                                      |\n",
    "| 10       | 70     | 72    | 2                                      |\n",
    "| 11       | 66     | 69    | 3                                      |\n",
    "| 12       | 73     | 76    | 3                                      |\n",
    "| 13       | 64     | 67    | 3                                      |\n",
    "| 14       | 71     | 74    | 3                                      |\n",
    "| 15       | 69     | 71    | 2                                      |\n",
    "\n",
    "\n",
    "- Sample size: \\( n = 15 \\)\n",
    "- Mean of differences:  \n",
    "  \\[\n",
    "  \\bar{d} = \\frac{5 + 2 + 8 - 2 + 5 + 2 + 3 + 3 + 2 + 2 + 3 + 3 + 3 + 3 + 2}{15} = \\frac{44}{15} \\approx 2.933\n",
    "  \\]\n",
    "- Standard deviation of differences:\n",
    "  \\[\n",
    "  s_d \\approx 1.746\n",
    "  \\]\n",
    "\n",
    "\n",
    "\\[\n",
    "t = \\frac{\\bar{d}}{s_d / \\sqrt{n}} = \\frac{2.933}{1.746 / \\sqrt{15}} \\approx \\frac{2.933}{0.451} \\approx 6.50\n",
    "\\]\n",
    "\n",
    "- Degrees of freedom: \\( df = 15 - 1 = 14 \\)\n",
    "- Corresponding **p-value** (right-tailed):  \n",
    "  \\[\n",
    "  p < 0.0001\n",
    "  \\]\n",
    "\n",
    "\n",
    "\n",
    "Since \\( p < 0.05 \\), we **reject the null hypothesis**.\n",
    "\n",
    "There is **strong statistical evidence** that the training program significantly improved employee productivity.\n",
    "\n"
   ]
  },
  {
   "cell_type": "markdown",
   "id": "428bf18a",
   "metadata": {},
   "source": [
    "### Problem-8\n",
    "\n",
    "A battery manufacturer claims that their new 'ProLife' battery lasts longer than their existing 'Standard' battery. A consumer watchdog organization tests 40 'ProLife' batteries and 50 'Standard' batteries. The results are:\n",
    "\n",
    "ProLife: Sample mean life = 120 hours, Sample standard deviation = 10 hours\n",
    "\n",
    "Standard: Sample mean life = 115 hours, Sample standard deviation = 12 hours\n",
    "\n",
    "(a) State the null and alternative hypotheses for testing the manufacturer's claim.\n",
    "\n",
    "(b) Perform a z-test for two independent means at a 0.02 significance level.\n",
    "\n",
    "(c) What is your conclusion regarding the manufacturer's claim about the 'ProLife' battery?"
   ]
  },
  {
   "cell_type": "code",
   "execution_count": null,
   "id": "87f0e498",
   "metadata": {},
   "outputs": [],
   "source": []
  },
  {
   "cell_type": "markdown",
   "id": "47a73ee9",
   "metadata": {},
   "source": [
    "### Problem-9\n",
    "\n",
    "A popular restaurant chain claims that the average waiting time for a table on weekends is no more than 20 minutes. A local food critic believes it's longer. They record the waiting times (in minutes) for 30 randomly selected tables on various weekends:\n",
    "\n",
    "`[22, 25, 18, 30, 28, 20, 23, 26, 19, 32, 21, 24, 27, 29, 20, 25, 23, 17, 31, 26, 22, 28, 20, 24, 27, 29, 21, 23, 25, 26]`\n",
    "\n",
    "(a) Calculate the sample mean and sample standard deviation of the waiting times.\n",
    "\n",
    "(b) Conduct a one-sided t-test at a 0.01 significance level to assess the food critic's belief.\n",
    "\n",
    "(c) State your null and alternative hypotheses, calculate the test statistic, and determine the critical value.\n",
    "\n",
    "(d) Based on your findings, what can you tell the food critic?"
   ]
  },
  {
   "cell_type": "code",
   "execution_count": null,
   "id": "27b62a89",
   "metadata": {},
   "outputs": [],
   "source": []
  },
  {
   "cell_type": "markdown",
   "id": "01477be1",
   "metadata": {},
   "source": [
    "### Problem-10\n",
    "\n",
    "A software company is launching a new application and offers three different subscription tiers (Basic, Premium, Elite), each with varying features. Before the full launch, they conduct a pilot study to see if there's an association between a customer's age group and their preferred subscription tier. They surveyed 300 randomly selected potential customers and recorded their age group and preferred tier:\n",
    "\n",
    "| Age Group   | Basic | Premium | Elite | Total |\n",
    "|-------------|-------|---------|-------|-------|\n",
    "| 18-29 years |    45 |      60 | 15    | 120   |\n",
    "| 30-49 years |    30 |      50 | 20    | 100   |\n",
    "|   50+ years |    25 |      40 | 15    | 80    |\n",
    "|       Total |   100 |     150 | 50    | 300   |\n",
    "\n",
    "\n",
    "(a) State the null and alternative hypotheses for the test of independence in this context.\n",
    "\n",
    "(b) Calculate the expected frequencies for each cell in the table, assuming the null hypothesis is true. Show your calculations clearly.\n",
    "\n",
    "(c) Calculate the chi-square test statistic.\n",
    "\n",
    "(d) Using a significance level of α=0.05, determine the critical value for this test.\n",
    "\n",
    "(e) What is your conclusion? Is there a significant association between a customer's age group and their preferred subscription tier? Justify your answer based on your calculated chi-square statistic and the critical value."
   ]
  },
  {
   "cell_type": "code",
   "execution_count": null,
   "id": "8f4d8e1a",
   "metadata": {},
   "outputs": [],
   "source": []
  },
  {
   "cell_type": "markdown",
   "id": "c3bf80f1",
   "metadata": {},
   "source": [
    "### Bonus Problem\n",
    "\n",
    "An e-commerce company is testing two different designs for its product pages (Design A and Design B) to see if one leads to significantly higher conversion rates (percentage of visitors who make a purchase). They randomly assigned 50,000 website visitors to see Design A and another 50,000 visitors to see Design B over a two-week period. At the end of the period, they collected data on the conversion rates. Due to data collection specifics, they have daily average conversion rates for 30 randomly selected days for each design, rather than individual visitor data.\n",
    "\n",
    "Here are the summary statistics for the daily average conversion rates (in percentage points):\n",
    "\n",
    "* Design A (Sample 1):\n",
    "\n",
    "    - Number of days ($n_A$) = 30\n",
    "    - Mean Daily Conversion Rate ($\\bar{x}_A$) = 2.85%\n",
    "    - Sample Standard Deviation ($s_A$) = 0.45%\n",
    "\n",
    "* Design B (Sample 2):\n",
    "\n",
    "    - Number of days ($n_B$) = 30\n",
    "    - Mean Daily Conversion Rate ($\\bar{x}_B$) = 3.05%\n",
    "    - Sample Standard Deviation ($s_B$) = 0.60%\n",
    "\n",
    "The company is concerned that the variability in conversion rates might differ between the two designs due to different aesthetic elements or backend processes.\n",
    "\n",
    "(a) State the null and alternative hypotheses to test if there is a significant difference in the average daily conversion rates between Design A and Design B. (Consider a two-tailed test, as they are looking for any significant difference).\n",
    "\n",
    "(b) Before performing the t-test, you need to decide whether to assume equal or unequal population variances. For the purpose of this problem, assume that a prior test suggests unequal population variances.\n",
    "\n",
    "(c) Calculate the appropriate test statistic (t-value) for comparing the two independent means, assuming equal population variances. Show all steps of your calculation.\n",
    "\n",
    "(d) Determine the degrees of freedom for this test. \n",
    "\n",
    "(e) Using a significance level of α=0.05, determine the critical value(s) for your test.\n",
    "\n",
    "(f) Based on your calculated test statistic and the critical value(s), what is your conclusion? Is there a statistically significant difference in the average daily conversion rates between Design A and Design B?\n",
    "\n",
    "(g) Construct a 95% confidence interval for the difference between the true mean daily conversion rates $(μ_B - μ_A)$. Interpret this interval in the context of the problem."
   ]
  },
  {
   "cell_type": "code",
   "execution_count": null,
   "id": "017d8e30",
   "metadata": {},
   "outputs": [],
   "source": []
  }
 ],
 "metadata": {
  "kernelspec": {
   "display_name": "jupyter_env",
   "language": "python",
   "name": "python3"
  },
  "language_info": {
   "codemirror_mode": {
    "name": "ipython",
    "version": 3
   },
   "file_extension": ".py",
   "mimetype": "text/x-python",
   "name": "python",
   "nbconvert_exporter": "python",
   "pygments_lexer": "ipython3",
   "version": "3.9.6"
  }
 },
 "nbformat": 4,
 "nbformat_minor": 5
}
