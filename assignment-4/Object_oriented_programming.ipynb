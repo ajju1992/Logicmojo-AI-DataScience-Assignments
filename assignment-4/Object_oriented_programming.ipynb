{
 "cells": [
  {
   "cell_type": "markdown",
   "id": "2535e4db",
   "metadata": {},
   "source": [
    "# Assignment-4\n",
    "\n",
    "This notebook contains the coding questions to test the proficiency in `Object Oriented Programming` in python.\n",
    "\n",
    "### Date: 16th May, 2025\n",
    "\n",
    "### Steps to solve and upload the assignment \n",
    "\n",
    "- Download the notebook in your local machine.\n",
    "- Solve the questions in the notebook and save it.\n",
    "- Rename the file as `Assignment-04-<your_name>_<your_surname>.ipynb`. For example if your name is Dipika Chopra then name the file as `Assignment-04-Dipika_Chopra.ipynb`.\n",
    "- Upload the solved notebook in the google drive location: https://drive.google.com/drive/folders/14z3q91F8xzPb8Hm-KxNGn-nkKacqB17v?usp=drive_link\n",
    "<h3><span style=\"color:red\"> Deadline: 31st May, 2025 </span></h3>"
   ]
  },
  {
   "cell_type": "markdown",
   "id": "a9701d5d",
   "metadata": {},
   "source": [
    "## Problem-1\n",
    "\n",
    "Design a system for a library. Include classes for `Book`, `Patron`, and `Library`.\n",
    "\n",
    "- The `Book` class should have attributes for title, author, ISBN, and a method `is_available()` that returns `True` if the book is not currently checked out and `False` otherwise. It should also have a method `check_out()` that marks the book as checked out and a method `check_in()` that marks it as available.\n",
    "- The `Patron` class should have attributes for name and patron ID and a method `borrow_book(book)` that associates a book with the patron.\n",
    "- The `Library` class should have a collection of `Book` objects and `Patron` objects. It should have methods to `add_book(book)`, `add_patron(patron)`, `lend_book(book, patron)`, and `return_book(book)`. The `lend_book` method should only allow a book to be lent if it's available and the patron exists in the library.\n",
    "\n",
    "\n",
    "Test your implementation."
   ]
  },
  {
   "cell_type": "code",
   "execution_count": 30,
   "id": "8477e3f6",
   "metadata": {},
   "outputs": [
    {
     "name": "stdout",
     "output_type": "stream",
     "text": [
      "Added \"The Catcher in the Rye\" by J.D. Salinger (ISBN: 9780316769488) to the library.\n",
      "Added \"1984\" by George Orwell (ISBN: 9780451524935) to the library.\n",
      "Anuj (ID: 101) is now a patron of the library.\n",
      "\"The Catcher in the Rye\" by J.D. Salinger (ISBN: 9780316769488) has been checked out.\n",
      "Anuj (ID: 101) borrowed \"The Catcher in the Rye\" by J.D. Salinger.\n",
      "\"The Catcher in the Rye\" by J.D. Salinger (ISBN: 9780316769488) has been checked in.\n",
      "Anuj returned \"The Catcher in the Rye\" by J.D. Salinger to the library.\n"
     ]
    }
   ],
   "source": [
    "class Book:\n",
    "\n",
    "    def __init__(self, title, author, isbn):\n",
    "        self.title = title\n",
    "        self.author = author\n",
    "        self.isbn = isbn\n",
    "        self.checked_out = False\n",
    "\n",
    "    # Check if book is available\n",
    "    def is_available(self):\n",
    "        return(self.checked_out == False)\n",
    "\n",
    "    # defining a method to mark the book as checked out.\n",
    "    def check_out(self):\n",
    "        if self.is_available():\n",
    "            self.checked_out = True\n",
    "            print(f'\"{self.title}\" by {self.author} (ISBN: {self.isbn}) has been checked out.')\n",
    "        else:\n",
    "            print(f'\"{self.title}\" by {self.author} (ISBN: {self.isbn}) is already checked out.')\n",
    "\n",
    "    # defining a method to mark the book as checked in.\n",
    "    def check_in(self):\n",
    "        if not self.is_available():\n",
    "            self.checked_out = False\n",
    "            print(f'\"{self.title}\" by {self.author} (ISBN: {self.isbn}) has been checked in.')\n",
    "\n",
    "        else:\n",
    "            print(f'\"{self.title}\" by {self.author} (ISBN: {self.isbn}) was not checked out.')\n",
    "\n",
    "class Patron:\n",
    "\n",
    "    def __init__(self, name, patron_id):\n",
    "        self.name = name\n",
    "        self.patron_id = patron_id\n",
    "        self.borrowed_books = []\n",
    "\n",
    "    def borrow_book(self, book):\n",
    "        if book.is_available():\n",
    "            book.check_out()\n",
    "            self.borrowed_books.append(book)\n",
    "            print(f'{self.name} (ID: {self.patron_id}) borrowed \"{book.title}\" by {book.author}.')\n",
    "        else:\n",
    "            print(f'Sorry, \"{book.title}\" by {book.author} is already checked out.')\n",
    "\n",
    "\n",
    "class Library:\n",
    "        def __init__(self):\n",
    "          self.books = []\n",
    "          self.patrons = []\n",
    "\n",
    "        def add_book(self, book):\n",
    "          self.books.append(book)\n",
    "          print(f'Added \"{book.title}\" by {book.author} (ISBN: {book.isbn}) to the library.')\n",
    "\n",
    "        def add_patron(self, patron):\n",
    "          self.patrons.append(patron)\n",
    "          print(f'{patron.name} (ID: {patron.patron_id}) is now a patron of the library.')\n",
    "\n",
    "        def lend_book(self, book, patron):\n",
    "            if book.is_available():\n",
    "                if patron in self.patrons:\n",
    "                    patron.borrow_book(book)\n",
    "                else:\n",
    "                    print(f'Error: {patron.name} is not a registered patron.')\n",
    "            else:\n",
    "                    print(f'Sorry, \"{book.title}\" by {book.author} is not available.')\n",
    "\n",
    "        def return_book(self, book, patron):\n",
    "            if patron in self.patrons and book in patron.borrowed_books:\n",
    "                book.check_in()\n",
    "                patron.borrowed_books.remove(book)\n",
    "                print(f'{patron.name} returned \"{book.title}\" by {book.author} to the library.')\n",
    "                \n",
    "\n",
    "# Create Library Instance\n",
    "library = Library()\n",
    "\n",
    "# Create Books\n",
    "book1 = Book(\"The Catcher in the Rye\", \"J.D. Salinger\", \"9780316769488\")\n",
    "book2 = Book(\"1984\", \"George Orwell\", \"9780451524935\")\n",
    "\n",
    "# Add Books to Library\n",
    "library.add_book(book1)\n",
    "library.add_book(book2)\n",
    "\n",
    "# Create Patron\n",
    "patron1 = Patron(\"Anuj\", 101)\n",
    "library.add_patron(patron1)\n",
    "\n",
    "# Borrow a Book\n",
    "library.lend_book(book1, patron1)\n",
    "\n",
    "# Return the Book\n",
    "library.return_book(book1, patron1)"
   ]
  },
  {
   "cell_type": "markdown",
   "id": "f84ceae2",
   "metadata": {},
   "source": [
    "## Problem-2\n",
    "\n",
    "Create an base class `Shape` with an method `area()` and another method `perimeter()`. Then, create classes `Rectangle` and `Circle` that inherit from `Shape` and implement the `area()` method. The `perimeter()` method in `Shape` should raise a `NotImplementedError`. Implement the `perimeter()` method in `Rectangle` and `Circle`.\n",
    "\n",
    "Test your implementation."
   ]
  },
  {
   "cell_type": "code",
   "execution_count": 22,
   "id": "2a90ed8b",
   "metadata": {},
   "outputs": [
    {
     "name": "stdout",
     "output_type": "stream",
     "text": [
      "Rectangle Area: 50, Perimeter: 30\n",
      "Circle Area: 153.94, Perimeter: 43.98\n"
     ]
    }
   ],
   "source": [
    "import math\n",
    "\n",
    "class Shape:\n",
    "    def area(self):\n",
    "        raise NotImplementedError(\"Subclasses must implement the area method\")\n",
    "\n",
    "    def perimeter(self):\n",
    "        raise NotImplementedError(\"Subclasses must implement the perimeter method\")\n",
    "\n",
    "class Rectangle(Shape):\n",
    "    def __init__(self, width, height):\n",
    "        self.width = width\n",
    "        self.height = height\n",
    "\n",
    "    def area(self):\n",
    "        return self.width * self.height\n",
    "\n",
    "    def perimeter(self):\n",
    "        return 2 * (self.width + self.height)\n",
    "\n",
    "class Circle(Shape):\n",
    "    def __init__(self, radius):\n",
    "        self.radius = radius\n",
    "\n",
    "    def area(self):\n",
    "        return math.pi * self.radius ** 2\n",
    "\n",
    "    def perimeter(self):\n",
    "        return 2 * math.pi * self.radius\n",
    "\n",
    "rect = Rectangle(5, 10)\n",
    "circle = Circle(7)\n",
    "\n",
    "print(f\"Rectangle Area: {rect.area()}, Perimeter: {rect.perimeter()}\")\n",
    "print(f\"Circle Area: {circle.area():.2f}, Perimeter: {circle.perimeter():.2f}\")\n"
   ]
  },
  {
   "cell_type": "markdown",
   "id": "1d1687b0",
   "metadata": {},
   "source": [
    "## Problem-3\n",
    "\n",
    "Design a system to model different types of employees in a company. There should be a base `Employee` class with attributes for `name` and `employee_id`. Create two subclasses: `SalariedEmployee` with an attribute for `monthly_salary` and a method `calculate_paycheck()` that returns the monthly salary, and `HourlyEmployee` with attributes for `hourly_rate` and `hours_worked`, and a `calculate_paycheck()` method that returns the total pay for the week. Demonstrate creating instances of both employee types and calling their `calculate_paycheck()` methods.\n",
    "\n",
    "Test your implementation."
   ]
  },
  {
   "cell_type": "code",
   "execution_count": 29,
   "id": "00ad7a49",
   "metadata": {},
   "outputs": [
    {
     "name": "stdout",
     "output_type": "stream",
     "text": [
      "Anuj (ID: 101) earns Rs 100000 per month.\n",
      "Aman (ID: 102) earns Rs 9000 per week.\n"
     ]
    }
   ],
   "source": [
    "#base class\n",
    "class Employee:\n",
    "    def __init__(self, name, employee_id):\n",
    "        self.name = name\n",
    "        self.employee_id = employee_id\n",
    "    \n",
    "    def calculate_paycheck(self):\n",
    "        raise NotImplementedError(\"Subclasses must implement it's own calculate_paycheck method\")\n",
    "\n",
    "#Subclass 1\n",
    "class SalariedEmployee(Employee):\n",
    "    def __init__(self, name, employee_id, monthly_salary):\n",
    "        super().__init__(name, employee_id)\n",
    "        self.monthly_salary = monthly_salary\n",
    "\n",
    "    def calculate_paycheck(self):\n",
    "        return self.monthly_salary\n",
    "\n",
    "#Subclass 2\n",
    "class HourlyEmployee(Employee):\n",
    "    def __init__(self, name, employee_id, hourly_rate, hours_worked):\n",
    "        super().__init__(name, employee_id)\n",
    "        self.hourly_rate = hourly_rate\n",
    "        self.hours_worked = hours_worked\n",
    "\n",
    "    def calculate_paycheck(self):\n",
    "        return (self.hours_worked * self.hourly_rate)\n",
    "    \n",
    "\n",
    "# Creating employee instances\n",
    "salaried_emp = SalariedEmployee(\"Anuj\", 101, 100000)\n",
    "hourly_emp = HourlyEmployee(\"Aman\", 102, 100, 90)  # Rs 100/hr, worked 90 hours in a week\n",
    "\n",
    "# Calling calculate_paycheck()\n",
    "print(f\"{salaried_emp.name} (ID: {salaried_emp.employee_id}) earns Rs { salaried_emp.calculate_paycheck()} per month.\")\n",
    "print(f\"{hourly_emp.name} (ID: {hourly_emp.employee_id}) earns Rs {hourly_emp.calculate_paycheck()} per week.\")\n"
   ]
  },
  {
   "cell_type": "markdown",
   "id": "694b2ead",
   "metadata": {},
   "source": [
    "## Problem-4\n",
    "\n",
    "Design a class `polynomial` of one variable which will have attributes `degree`, a positive integer and `coefficients`, a list of floating point numbers. \n",
    "`degree` means the highest power of the variable and `coefficients` are the coefficient of individual terms.\n",
    "\n",
    "A polynomial of degree `n` has `n+1` coefficients. \n",
    "\n",
    "- Example-1:\n",
    "$$ 3x^4 + 5x^3 + x^2 + 9x + 10 $$\n",
    "This is a polynomial of degree 4 and coefficients are [3, 5, 1, 9, 10].\n",
    "\n",
    "- Example-2: (some coefficients could be zero)\n",
    "$$ 0.7x^3 + 2.5x $$\n",
    "Here the degree of polynomial is 3 and coefficients are [0.7, 0, 2.5, 0].\n",
    "\n",
    "A polynomial of degree zero is just a constant value. \n",
    "\n",
    "In the `polynomial` class, you need to implement the following methods:\n",
    "- `evaluate(x)` which will evaluate the polynomial for a given value of the variable x.\n",
    "- `plot([x1, x2])` this will plot the polynomial for a given range of x1 to x2 of the variable.\n",
    "- `derivative(x)` This will evaluate the derivative (differentiation) of the polynomial for a given value of the variable x.\n",
    "- `plot_derivative([x1, x2])` this will plot the derivative of the polynomial for a given range of x1 to x2 of the variable.\n",
    "\n",
    "The class should have basic checks, such that the number of coefficients provided by the user should be degree + 1 and the degree should be a positive integer. \n",
    "\n",
    "Test your implementation. "
   ]
  },
  {
   "cell_type": "code",
   "execution_count": null,
   "id": "3eeb9436",
   "metadata": {},
   "outputs": [],
   "source": [
    "import numpy as np\n",
    "import matplotlib.pyplot as plt\n",
    "\n",
    "class polynomial:\n",
    "    def __init__(self, degree, coefficients):\n",
    "        self.degree = degree\n",
    "        self.coefficients = coefficients\n",
    "\n",
    "        if ((self.degree <= 0) or (len(self.coefficients) != (self.degree + 1))):\n",
    "            raise ValueError(f\"Number of coefficients = {len(self.coefficients)} should be = {self.degree} + 1\")\n",
    "        else:\n",
    "            self.num_coefficients = len(self.coefficients)\n",
    "            terms = []\n",
    "            for i, coef in enumerate(self.coefficients):\n",
    "                power = self.degree - i\n",
    "                if coef != 0:\n",
    "                    term = f\"{abs(coef)}x^{power}\" if power > 1 else f\"{abs(coef)}x\" if power == 1 else f\"{abs(coef)}\"\n",
    "                    terms.append(f\"- {term}\" if coef < 0 else f\"+ {term}\")\n",
    "            \n",
    "            # Removes leading \"+\"\n",
    "            polynomial_str = \" \".join(terms).lstrip(\"+ \")\n",
    "            print(f\"Polynomial: {polynomial_str}\")\n",
    "\n",
    "        \n",
    "    # Method: 1, Evaluate the polynomial\n",
    "    def evaluate(self, x):\n",
    "            #print(type(np.polyval(self.coefficients, x)))\n",
    "            #print(f\"value of plynomial is {np.polyval(self.coefficients, x)} at x: {x}\")\n",
    "            return np.polyval(self.coefficients, x)\n",
    "\n",
    "\n",
    "    # Method: 2, Plot the ploynomial value for a given range\n",
    "    def plot(self, x_range):\n",
    " \n",
    "        x_values = np.linspace(x_range[0], x_range[1], 50)\n",
    "        y_values = self.evaluate(x_values)\n",
    "\n",
    "        # Plot the polynomial\n",
    "        plt.plot(x_values, y_values, label='Polynomial Curve', color='b')\n",
    "        plt.axhline(0, color='black', linewidth=1)\n",
    "        plt.axvline(0, color='black', linewidth=1)\n",
    "        plt.grid(True, linestyle='--', alpha=0.6)\n",
    "        plt.legend()\n",
    "        plt.xlabel(\"x\")\n",
    "        plt.ylabel(\"y\")\n",
    "        plt.title(\"Polynomial Plot\")\n",
    "        plt.show()\n",
    "\n",
    "    # Method: 3, Derivative of polynomial.\n",
    "    def derivative(self, x):\n",
    "        dx = 1e-6\n",
    "        x = np.asarray(x)\n",
    "        #print(f\"derivative is {((self.evaluate(x + dx) - self.evaluate(x - dx)) / (2 * dx))} at {x}\")\n",
    "        return ((self.evaluate(x + dx) - self.evaluate(x - dx)) / (2 * dx))\n",
    "\n",
    "\n",
    "    # Method: 4, Plot the derivative for a given range of x.\n",
    "    def plot_derivative(self, x_range): \n",
    " \n",
    "        x_values = np.linspace(x_range[0], x_range[1], 50)\n",
    "        y_values = self.derivative(x_values)\n",
    "\n",
    "        # Plot the derivative of a polynomial\n",
    "        plt.plot(x_values, y_values, label='Derivative of Polynomial Curve', color='b')\n",
    "        plt.axhline(0, color='black', linewidth=1)\n",
    "        plt.axvline(0, color='black', linewidth=1)\n",
    "        plt.grid(True, linestyle='--', alpha=0.6)\n",
    "        plt.legend()\n",
    "        plt.xlabel(\"x\")\n",
    "        plt.ylabel(\"y\")\n",
    "        plt.title(\"Derivative of Polynomial Plot\")\n",
    "        plt.show() "
   ]
  },
  {
   "cell_type": "code",
   "execution_count": 66,
   "id": "4a1fafa8",
   "metadata": {},
   "outputs": [
    {
     "name": "stdout",
     "output_type": "stream",
     "text": [
      "Polynomial: 2x^3 - 3x^2 + 4x - 5\n"
     ]
    },
    {
     "data": {
      "image/png": "[encoded data removed]",
      "text/plain": [
       "<Figure size 640x480 with 1 Axes>"
      ]
     },
     "metadata": {},
     "output_type": "display_data"
    },
    {
     "data": {
      "image/png": "[encoded data removed]",
      "text/plain": [
       "<Figure size 640x480 with 1 Axes>"
      ]
     },
     "metadata": {},
     "output_type": "display_data"
    }
   ],
   "source": [
    "p = polynomial(4, [0, 2, -3, 4, -5])\n",
    "p.evaluate(10)\n",
    "p.plot([0,10])\n",
    "p.derivative(10)\n",
    "p.plot_derivative([0,10])"
   ]
  },
  {
   "cell_type": "markdown",
   "id": "641b4303",
   "metadata": {},
   "source": [
    "## Problem-5\n",
    "\n",
    "Design a system to model a simple online shopping cart. Create a class `Product` with attributes for `name` and `price`. Then, create a `ShoppingCart` class that has a list to store `Product` objects. Implement methods to `add_item(product)`, `remove_item(product_name)`, and `calculate_total()`."
   ]
  },
  {
   "cell_type": "code",
   "execution_count": 3,
   "id": "de3bd44f",
   "metadata": {},
   "outputs": [
    {
     "name": "stdout",
     "output_type": "stream",
     "text": [
      "Added: Phone - Rs 100000\n",
      "Added: Speakers - Rs 3000\n",
      "Added: laptop - Rs 200000.79\n",
      "Removed: Phone - Rs 100000\n",
      "Total price of items in the cart: Rs 203000.79\n"
     ]
    },
    {
     "data": {
      "text/plain": [
       "203000.79"
      ]
     },
     "execution_count": 3,
     "metadata": {},
     "output_type": "execute_result"
    }
   ],
   "source": [
    "# Create a Product class\n",
    "class Product:\n",
    "    def __init__(self, name, price):\n",
    "        self.name = name\n",
    "        self.price = price\n",
    "\n",
    "# Create a Shopping cart class\n",
    "class ShoppingCart:\n",
    "    def __init__(self):\n",
    "        self.cart_objects = []\n",
    "        #print(type(self.cart_objects))\n",
    "\n",
    "    def add_item(self, name, price):\n",
    "        product = Product(name, price)\n",
    "        #print(type(product))\n",
    "        self.cart_objects.append(product)\n",
    "        print(f'Added: {product.name} - Rs {product.price:}')\n",
    "\n",
    "    def remove_item(self, name):\n",
    "        for cart_object in self.cart_objects:\n",
    "            if cart_object.name == name:  \n",
    "                self.cart_objects.remove(cart_object)\n",
    "                print(f'Removed: {cart_object.name} - Rs {cart_object.price:}')\n",
    "                return\n",
    "        print(f'Error: Product \"{name}\" not found in the cart.')\n",
    "\n",
    "    def calculate_total(self):\n",
    "        total_value = sum(cart_object.price for cart_object in self.cart_objects)\n",
    "        print(f'Total price of items in the cart: Rs {total_value:}')\n",
    "        return total_value\n",
    "\n",
    "cart = ShoppingCart()\n",
    "\n",
    "# Adding products\n",
    "cart.add_item(\"Phone\", 100000)\n",
    "cart.add_item(\"Speakers\", 3000)\n",
    "cart.add_item(\"laptop\", 200000.790)\n",
    "\n",
    "# Removing a product\n",
    "cart.remove_item(\"Phone\")\n",
    "\n",
    "# Calculating total\n",
    "cart.calculate_total()\n"
   ]
  },
  {
   "cell_type": "code",
   "execution_count": null,
   "id": "f05c77b2",
   "metadata": {},
   "outputs": [],
   "source": []
  }
 ],
 "metadata": {
  "kernelspec": {
   "display_name": "jupyter_env",
   "language": "python",
   "name": "python3"
  },
  "language_info": {
   "codemirror_mode": {
    "name": "ipython",
    "version": 3
   },
   "file_extension": ".py",
   "mimetype": "text/x-python",
   "name": "python",
   "nbconvert_exporter": "python",
   "pygments_lexer": "ipython3",
   "version": "3.9.6"
  }
 },
 "nbformat": 4,
 "nbformat_minor": 5
}
