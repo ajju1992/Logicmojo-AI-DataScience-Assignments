{
 "cells": [
  {
   "cell_type": "markdown",
   "id": "cf39e36c-305d-456a-b9e0-02a04cea95b0",
   "metadata": {},
   "source": [
    "# Assignment-1\n",
    "\n",
    "This notebook contains the coding questions to test the proficiency in basic python.\n",
    "\n",
    "### Date: 22nd April, 2025\n",
    "\n",
    "### Steps to solve and upload the assignment \n",
    "\n",
    "- Download the notebook in your local machine.\n",
    "- Solve the questions in the notebook and save it.\n",
    "- Rename the file as `Assignment-01-<your_name>_<your_surname>.ipynb`. For example if your name is Dipika Chopra then name the file as `Assignment-01-Dipika_Chopra.ipynb`.\n",
    "- Upload the solved notebook in the google drive location: https://drive.google.com/drive/folders/1ocablnD-nmo2Q1d4Q35BtJMcIMdwONK0?usp=sharing\n",
    "\n",
    "<h3><span style=\"color:red\"> Deadline: 30th April, 2025 </span></h3>"
   ]
  },
  {
   "cell_type": "markdown",
   "id": "fae8a82b-4baa-48a5-b7b0-cc0a77cd8419",
   "metadata": {},
   "source": [
    "#### Question-1\n",
    "\n",
    "Write a function `second_largest(numbers)` that takes a list of numbers and returns the second largest number in the list. Assume the list has at least two unique numbers.\n",
    "\n",
    "Example:\n",
    "```python\n",
    "numbers = [10, 5, 20, 8, 15]\n",
    "second = second_largest(numbers)\n",
    "print(second)\n",
    "# Expected output: 15\n",
    "```"
   ]
  },
  {
   "cell_type": "markdown",
   "id": "cc718ab0-8518-4501-af04-589b28c9f21a",
   "metadata": {},
   "source": [
    "\n",
    "#### @brief description\n",
    "```python\n",
    "Function takes arguement as a list of numbers.\n",
    "```\n",
    "\n",
    "#### Return value\n",
    "```python\n",
    "returns the 2nd largest number\n",
    "```\n",
    "#### Assumption\n",
    "```python\n",
    "Assuming user will input atleast 2 unique numbers.\n",
    "```"
   ]
  },
  {
   "cell_type": "code",
   "execution_count": 14,
   "id": "e3ea060f-0a00-446d-9461-e4484a6b9e2d",
   "metadata": {},
   "outputs": [
    {
     "name": "stdin",
     "output_type": "stream",
     "text": [
      "Enter numbers separated by spaces:  1 -1.5 5.6 6.9\n"
     ]
    },
    {
     "name": "stdout",
     "output_type": "stream",
     "text": [
      "[1.0, -1.5, 5.6, 6.9]\n",
      "Second largest number:  5.6\n"
     ]
    },
    {
     "data": {
      "text/plain": [
       "5.6"
      ]
     },
     "execution_count": 14,
     "metadata": {},
     "output_type": "execute_result"
    }
   ],
   "source": [
    "#define the function\n",
    "def second_largest(numbers):\n",
    "\n",
    "# Sort the list of numbers in descending order.\n",
    "    sorted_numbers_list = sorted(numbers, reverse=True)\n",
    "    print(\"Second largest number: \", sorted_numbers_list[1])\n",
    "    return sorted_numbers_list[1]\n",
    "    \n",
    "## Take the input of numbers from the user and convert it into the list of numbers(interger or float)\n",
    "## Take the input in the form of string and separate it\n",
    "numbers_list = list(map(float, input(\"Enter numbers separated by spaces: \").split()))\n",
    "print(numbers_list)\n",
    "\n",
    "# call the function\n",
    "second_largest(numbers_list)"
   ]
  },
  {
   "cell_type": "markdown",
   "id": "d36297be-09c5-4cda-8b52-281566a62f65",
   "metadata": {},
   "source": [
    "#### Question-2\n",
    "\n",
    "Write a function `count_vowels(text)` that takes a string as input and returns the number of vowels (a, e, i, o, u - case-insensitive) present in the string.\n",
    "\n",
    "Example:\n",
    "```python\n",
    "text = \"Hello World\"\n",
    "vowel_count = count_vowels(text)\n",
    "print(vowel_count)\n",
    "# Expected output: 3\n",
    "```\n"
   ]
  },
  {
   "cell_type": "markdown",
   "id": "192762a1-7f90-4c8c-a6a9-cb7253e1a7b7",
   "metadata": {},
   "source": [
    "#### @brief description\n",
    "```python\n",
    "Function takes string as an arguement.\n",
    "```\n",
    "\n",
    "#### Return value\n",
    "```python\n",
    "returns the number of vowels.\n",
    "```\n",
    "#### Assumption\n",
    "```python\n",
    "Assuming user will input string.\n",
    "```"
   ]
  },
  {
   "cell_type": "code",
   "execution_count": 31,
   "id": "35ed7370-242a-49d2-a7d2-da9b0c0d2ca4",
   "metadata": {},
   "outputs": [
    {
     "name": "stdin",
     "output_type": "stream",
     "text": [
      "Enter a string:  Hello Avyaan Khanna!\n"
     ]
    },
    {
     "name": "stdout",
     "output_type": "stream",
     "text": [
      "Hello Avyaan Khanna!\n",
      "Number of vowels: 7\n"
     ]
    },
    {
     "data": {
      "text/plain": [
       "7"
      ]
     },
     "execution_count": 31,
     "metadata": {},
     "output_type": "execute_result"
    }
   ],
   "source": [
    "# define the function\n",
    "def count_vowels(text):\n",
    "    count = 0\n",
    "\n",
    "    for i in range(len(text)):\n",
    "        #print(\"Current character: \", text[i])\n",
    "        if ((text[i] == 'a' ) or (text[i] == 'e') or (text[i] == 'i') or (text[i] == 'o') or (text[i] == 'u')):\n",
    "            count = count+1\n",
    "        \n",
    "    print(\"Number of vowels:\", count)\n",
    "    return count\n",
    "\n",
    "## Take input string from the user\n",
    "user_text = input(\"Enter a string: \")\n",
    "print(user_text)\n",
    "\n",
    "# remove leading and trailing spaces if any\n",
    "stripped_text = user_text.strip()\n",
    "#print(stripped_text)\n",
    "\n",
    "# Change whole string to lowercase\n",
    "lower_case_text = stripped_text.lower()\n",
    "#print(lower_case_text)\n",
    "\n",
    "# call the function\n",
    "count_vowels(lower_case_text)"
   ]
  },
  {
   "cell_type": "markdown",
   "id": "1896a5da-319f-483a-835d-a08b0710a728",
   "metadata": {},
   "source": [
    "#### Question-3\n",
    "\n",
    "Write a Python program to print all the prime numbers between 1 and N (inclusive). Where N is a positive integer and an input from user.\n",
    "\n",
    "Example:\n",
    "\n",
    "```python\n",
    "N = 20\n",
    "# Expected output: 2,3,5,7,11,13,17,19\n",
    "\n",
    "```"
   ]
  },
  {
   "cell_type": "markdown",
   "id": "c14d705e-5ce8-4c5b-9a9a-58dae7ae6296",
   "metadata": {},
   "source": [
    "#### @brief description\n",
    "```python\n",
    "Function takes arguement as a positive integer.\n",
    "```\n",
    "#### Return value\n",
    "```python\n",
    "returns the list of prime numbers between 1 and user inputed positive integer.\n",
    "```\n",
    "#### Assumption\n",
    "```python\n",
    "Assuming user will input a positive integer.\n",
    "```"
   ]
  },
  {
   "cell_type": "code",
   "execution_count": 20,
   "id": "10849246-0145-488f-935c-bc0a7f610192",
   "metadata": {},
   "outputs": [
    {
     "name": "stdin",
     "output_type": "stream",
     "text": [
      "Enter a positive integer:  100\n"
     ]
    },
    {
     "name": "stdout",
     "output_type": "stream",
     "text": [
      "[2, 3, 5, 7, 11, 13, 17, 19, 23, 29, 31, 37, 41, 43, 47, 53, 59, 61, 67, 71, 73, 79, 83, 89, 97]\n"
     ]
    }
   ],
   "source": [
    "# Take a positive integer from the user\n",
    "N = int(input(\"Enter a positive integer: \"))\n",
    "\n",
    "# bail out early if N <= 1\n",
    "if (N < 1 or N ==1):\n",
    "    print(\"Please enter a poitive integer > 1\")\n",
    "elif (N == 2):\n",
    "    print(\" List of prime number:\", N)\n",
    "elif (N == 3):\n",
    "    print(\" List of prime numbers:\", [2, 3])   \n",
    "elif (N > 3):\n",
    "    # take the sqaure root of the number and find if there are any divisors of the Number between 2 to int(squareroot(N))\n",
    "    #initialize a list of prime numbers with number 3.\n",
    "    prime_numbers = [2, 3]\n",
    "    \n",
    "    for i in range(4, N+1):\n",
    "        is_prime = True\n",
    "        sqrt_i = i ** 0.5\n",
    "        # Take the integer part of the squareroot\n",
    "        integer_sqrt_i = int(sqrt_i)\n",
    "        \n",
    "        # idendify if i is a prime or not\n",
    "        for j in range(2, integer_sqrt_i+1):\n",
    "            if (i % j == 0):\n",
    "                is_prime = False\n",
    "                break\n",
    "\n",
    "        if (is_prime == True):\n",
    "            # append the number i to the prime number list\n",
    "            prime_numbers.append(i)\n",
    "\n",
    "    print(prime_numbers)\n",
    "            "
   ]
  },
  {
   "cell_type": "markdown",
   "id": "7e9eedf0-23e7-4eb0-94f3-2ca0c23d9bad",
   "metadata": {},
   "source": [
    "#### Question-4\n",
    "\n",
    "Write a function `merge_sorted_lists(list1, list2)` that takes two sorted lists of integers, `list1` and `list2` and merges them into a single sorted list efficiently. One way is to simple concatenate the lists and sort. But think of a better approach.\n",
    "\n",
    "Example:\n",
    "```python\n",
    "list1 = [1, 4, 5]\n",
    "list2 = [1, 3, 4]\n",
    "merged = merge_sorted_lists(list1, list2)\n",
    "print(merged)\n",
    "# Expected output: [1, 1, 3, 4, 4, 5]\n",
    "```"
   ]
  },
  {
   "cell_type": "code",
   "execution_count": 38,
   "id": "8659d4f3-1f44-461f-9f66-d1f8c1301505",
   "metadata": {},
   "outputs": [
    {
     "name": "stdout",
     "output_type": "stream",
     "text": [
      "[0, 0, 0, 1, 4, 5]\n"
     ]
    }
   ],
   "source": [
    "def merge_sorted_lists(list1, list2):\n",
    "    merged_list = []\n",
    "    i, j = 0, 0  # Initialize pointers\n",
    "    \n",
    "    # Merge elements while both lists have items\n",
    "    while i < len(list1) and j < len(list2):\n",
    "        if list1[i] < list2[j]:\n",
    "            merged_list.append(list1[i])\n",
    "            i += 1\n",
    "        else:\n",
    "            merged_list.append(list2[j])\n",
    "            j += 1\n",
    "\n",
    "    # Append any remaining elements in list1\n",
    "    while i < len(list1):\n",
    "        merged_list.append(list1[i])\n",
    "        i += 1\n",
    "\n",
    "    # Append any remaining elements in list2\n",
    "    while j < len(list2):\n",
    "        merged_list.append(list2[j])\n",
    "        j += 1\n",
    "\n",
    "    return merged_list\n",
    "\n",
    "# Example usage\n",
    "list1 = [0, 0, 5]\n",
    "list2 = [0, 1, 4]\n",
    "merged = merge_sorted_lists(list1, list2)\n",
    "print(merged)"
   ]
  },
  {
   "cell_type": "markdown",
   "id": "3c21c6f4-3fc7-476f-8ae3-ca81ca419973",
   "metadata": {},
   "source": [
    "#### Question-5\n",
    "\n",
    "Create a dictionary like: `student_grades = {\"Alice\": 85, \"Bob\": 92, \"Charlie\": 78}`. Write Python code to find and print the name of the student with the highest grade.\n",
    "\n",
    "Example:\n",
    "```python\n",
    "student_grades = {\"Alice\": 85, \"Bob\": 92, \"Charlie\": 78}\n",
    "# Expected output: Bob\n",
    "```"
   ]
  },
  {
   "cell_type": "code",
   "execution_count": 41,
   "id": "1246d214-e6a0-4282-8555-26f6a1bc75ab",
   "metadata": {},
   "outputs": [
    {
     "name": "stdout",
     "output_type": "stream",
     "text": [
      "Pooja\n"
     ]
    }
   ],
   "source": [
    "# create dictionary\n",
    "# assuming no more than 1 students have same grade.\n",
    "student_grades = {\"Pooja\": 10000, \"Alice\": 100, \"Bob\": 500, \"David\": 1, \"Anuj\": 99, \"Charlie\": 1000}\n",
    "\n",
    "is_highest_grade_init = False;\n",
    "highest_grade = -1;\n",
    "student_w_highest_grade = \"abc\"\n",
    "\n",
    "#indexing dictionary using keys\n",
    "for key in student_grades:\n",
    "    #print(key, \"value: \", student_grades[key])\n",
    "    if (is_highest_grade_init == True):\n",
    "\n",
    "        if (student_grades[key] > highest_grade):\n",
    "            highest_grade = student_grades[key]\n",
    "            student_w_highest_grade = key\n",
    "    else:\n",
    "        highest_grade = student_grades[key]\n",
    "        student_w_highest_grade = key\n",
    "        is_highest_grade_init = True\n",
    "\n",
    "print(student_w_highest_grade)"
   ]
  },
  {
   "cell_type": "markdown",
   "id": "a4799b88-d567-4b82-b640-941633d21138",
   "metadata": {},
   "source": [
    "#### Question-6\n",
    "\n",
    "Write a function `is_anagram(str1, str2)` that checks if two given strings are anagrams of each other (contain the same characters with the same frequencies, ignoring case).\n",
    "\n",
    "Example:\n",
    "```python\n",
    "print(is_anagram(\"listen\", \"silent\"))\n",
    "print(is_anagram(\"hello\", \"world\"))\n",
    "# Expected output:\n",
    "# True\n",
    "# False\n",
    "```"
   ]
  },
  {
   "cell_type": "code",
   "execution_count": 58,
   "id": "0431848e-a20e-4de5-b84b-eb26d46d266a",
   "metadata": {},
   "outputs": [
    {
     "name": "stdin",
     "output_type": "stream",
     "text": [
      "Enter the first string:  teen\n",
      "Enter the second string:  neet\n"
     ]
    },
    {
     "data": {
      "text/plain": [
       "True"
      ]
     },
     "execution_count": 58,
     "metadata": {},
     "output_type": "execute_result"
    }
   ],
   "source": [
    "#define a function\n",
    "# assuming user will not enter 2 same words.\n",
    "# assuming user will enter words with no repeated characters.\n",
    "#assuming user will not give space between characters in the words\n",
    "\n",
    "def is_anagram(str1, str2):\n",
    "    lower_case_str1 = str1.lower()\n",
    "    lower_case_str2 = str2.lower()\n",
    "    is_anagram = True\n",
    "\n",
    "    #bail out early if length of 2 strings are different.\n",
    "    if(len(lower_case_str1) != len(lower_case_str2)):\n",
    "        print(\"Please enter words with same number of characters\")\n",
    "    else:\n",
    "        for i in range(len(lower_case_str1)):\n",
    "            match_found = False\n",
    "            for j in range(len(lower_case_str2)):\n",
    "                if(lower_case_str1[i] == lower_case_str2[j]):\n",
    "                    match_found = True\n",
    "                    break\n",
    "\n",
    "            if(match_found == False):\n",
    "                is_anagram = match_found\n",
    "                break\n",
    "\n",
    "    return is_anagram\n",
    "\n",
    "            \n",
    "# Take the input of 2 strings from the user (case insensitive)\n",
    "string1 = input(\"Enter the first string: \")\n",
    "string2 = input(\"Enter the second string: \")\n",
    "\n",
    "is_anagram(string1, string2)"
   ]
  },
  {
   "cell_type": "markdown",
   "id": "4ede0c1c-0af8-4cbb-b9af-9cb2a200ab9d",
   "metadata": {},
   "source": [
    "#### Question-7\n",
    "\n",
    "Write a function `rotate_list(lst, k)` that rotates a given list lst to the right by `k` positions in-place. Assume `k` is a non-negative integer and can be greater than the length of the list.\n",
    "\n",
    "Example:\n",
    "\n",
    "```python\n",
    "my_list = [1, 2, 3, 4, 5]\n",
    "rotate_list(my_list, 2)\n",
    "print(my_list)\n",
    "# Expected output: [4, 5, 1, 2, 3]\n",
    "```"
   ]
  },
  {
   "cell_type": "code",
   "execution_count": 21,
   "id": "5193d146-984f-46ba-ab95-9d6bfa18a711",
   "metadata": {},
   "outputs": [
    {
     "name": "stdin",
     "output_type": "stream",
     "text": [
      "Enter numbers separated by spaces:  1 3 45\n",
      "Enter a positive integer:  4\n"
     ]
    },
    {
     "name": "stdout",
     "output_type": "stream",
     "text": [
      "input list -->  [1, 3, 45]\n",
      "input k -->  4\n",
      " Please find the rotated list here -->  [45, 1, 3]\n"
     ]
    }
   ],
   "source": [
    "#define a function\n",
    "def rotate_list(lst, k):\n",
    "\n",
    "    # determine how many number of last elements to be rotated.\n",
    "    k_prime = k\n",
    "\n",
    "    if (k >= len(lst)):\n",
    "        k_prime = (k - len(lst))\n",
    "        #print(\"k = \", k, \"k_prime \", k_prime)\n",
    "\n",
    "\n",
    "    if (k_prime != 0):\n",
    "        \n",
    "       # Use slicing to get the last number of list elements to be rotated.\n",
    "       rotated_list_1_part = lst[-k_prime:]\n",
    "       # Use slicing with positive indexing to get the remaining initial number of elements\n",
    "       rotated_list_2_part = lst[:(len(lst) - k_prime)]\n",
    "       # Merge 2 lists together\n",
    "       final_list = rotated_list_1_part + rotated_list_2_part\n",
    "       print(\" Please find the rotated list here --> \", final_list)\n",
    "    else:\n",
    "       final_list = lst\n",
    "       print(\" Please find the rotated list here --> \", final_list) \n",
    "\n",
    "# Take the input as a list of numbers(integers) from the user\n",
    "# Assuming user is interested in integers only\n",
    "input_list = list(map(int, input(\"Enter numbers separated by spaces: \").split()))\n",
    "input_k = int(input(\"Enter a positive integer: \"))\n",
    "print(\"input list --> \", input_list)\n",
    "print(\"input k --> \", input_k)\n",
    "\n",
    "# call the function\n",
    "rotate_list(input_list, input_k)"
   ]
  },
  {
   "cell_type": "markdown",
   "id": "c2bb2490-9374-47ff-b4c6-a27767108436",
   "metadata": {},
   "source": [
    "#### Question-8\n",
    "\n",
    "You have a list of dictionaries, where each dictionary represents a product with keys \"name\", \"price\", and \"category\". Write a function group_by_category(products) that takes this list and returns a dictionary where the keys are the unique categories and the values are lists of product names belonging to that category.\n",
    "\n",
    "Example:\n",
    "\n",
    "```python\n",
    "products = [\n",
    "    {\"name\": \"Laptop\", \"price\": 1200, \"category\": \"Electronics\"},\n",
    "    {\"name\": \"Book\", \"price\": 25, \"category\": \"Books\"},\n",
    "    {\"name\": \"Tablet\", \"price\": 300, \"category\": \"Electronics\"},\n",
    "    {\"name\": \"Fiction\", \"price\": 15, \"category\": \"Books\"},\n",
    "]\n",
    "grouped_products = group_by_category(products)\n",
    "print(grouped_products)\n",
    "# Expected output: {'Electronics': ['Laptop', 'Tablet'], 'Books': ['Book', 'Fiction']}\n",
    "\n",
    "```\n"
   ]
  },
  {
   "cell_type": "code",
   "execution_count": 34,
   "id": "3f8bb46b-304e-4d2a-93b2-b86e7be1eedb",
   "metadata": {},
   "outputs": [
    {
     "name": "stdout",
     "output_type": "stream",
     "text": [
      "{'Electronics': ['Laptop', 'Tablet'], 'Books': ['Book', 'Fiction']}\n"
     ]
    }
   ],
   "source": [
    "def group_by_category(products):\n",
    "    grouped_dict = {}\n",
    "\n",
    "    for dictionary in products:\n",
    "        category = dictionary[\"category\"]\n",
    "        name = dictionary[\"name\"]\n",
    "\n",
    "        if category in grouped_dict:\n",
    "            grouped_dict[category].append(name)\n",
    "        else:\n",
    "            grouped_dict[category] = [name]\n",
    "\n",
    "    return grouped_dict\n",
    "\n",
    "# Inputs\n",
    "products = [\n",
    "    {\"name\": \"Laptop\", \"price\": 1200, \"category\": \"Electronics\"},\n",
    "    {\"name\": \"Book\", \"price\": 25, \"category\": \"Books\"},\n",
    "    {\"name\": \"Tablet\", \"price\": 300, \"category\": \"Electronics\"},\n",
    "    {\"name\": \"Fiction\", \"price\": 15, \"category\": \"Books\"},\n",
    "]\n",
    "\n",
    "grouped_products = group_by_category(products)\n",
    "print(grouped_products)"
   ]
  },
  {
   "cell_type": "markdown",
   "id": "af52c3db-7673-4776-9a9a-0112ea221827",
   "metadata": {},
   "source": [
    "#### Question-9\n",
    "\n",
    "Write a Python program that prints the first `n` rows of Pascal's triangle. `n` is a positive integer and an user input. To know about Pascal's triangle see the [wikipedia article](https://en.wikipedia.org/wiki/Pascal%27s_triangle): \n",
    "\n",
    "Example:\n",
    "\n",
    "```python\n",
    "n = 5\n",
    "# Expected output:\n",
    "#     1\n",
    "#    1 1\n",
    "#   1 2 1\n",
    "#  1 3 3 1\n",
    "# 1 4 6 4 1\n",
    "```"
   ]
  },
  {
   "cell_type": "code",
   "execution_count": 1,
   "id": "0d8d9fe0-65bb-4777-b487-92fa216ce2ef",
   "metadata": {},
   "outputs": [
    {
     "name": "stdin",
     "output_type": "stream",
     "text": [
      "Enter the number of rows:  5\n"
     ]
    },
    {
     "name": "stdout",
     "output_type": "stream",
     "text": [
      "     1\n",
      "    1 1\n",
      "   1 2 1\n",
      "  1 3 3 1\n",
      " 1 4 6 4 1\n"
     ]
    }
   ],
   "source": [
    "def pascal_triangle(n):\n",
    "    # Start with the first row\n",
    "    # triangle list containg another list with single element for now\n",
    "    triangle = [[1]]  \n",
    "\n",
    "    # Build rows from 1 to n-1\n",
    "    for i in range(1, n):  \n",
    "        # First element is always 1\n",
    "        row = [1]\n",
    "        # Compute middle values\n",
    "        for j in range(1, i):  \n",
    "            row.append(triangle[i - 1][j - 1] + triangle[i - 1][j])\n",
    "        # Last element is always 1\n",
    "        row.append(1)  \n",
    "        triangle.append(row)\n",
    "\n",
    "    # Printing the triangle with spacing for alignment\n",
    "    for row in triangle:\n",
    "        print(\" \" * (n - len(row)), \" \".join(map(str, row)))\n",
    "\n",
    "# User input for number of rows\n",
    "n = int(input(\"Enter the number of rows: \"))\n",
    "pascal_triangle(n)"
   ]
  },
  {
   "cell_type": "markdown",
   "id": "51492f62-3388-4956-b081-fa1193f6c9ae",
   "metadata": {},
   "source": [
    "#### Question-10\n",
    "\n",
    "Write a function `reverse_the_words(s)` which will take a string `s` as input and reverses the words in the string. \n",
    "\n",
    "Example:\n",
    "\n",
    "```python\n",
    "s = \"Python is awesome and challenging\"\n",
    "r = reverse_the_words(s)\n",
    "print(r)\n",
    "# Expected output: challenging and awesome is Python\n",
    "```"
   ]
  },
  {
   "cell_type": "code",
   "execution_count": 30,
   "id": "121c0320-c9b8-4e44-93ed-0996bcb265ef",
   "metadata": {},
   "outputs": [
    {
     "name": "stdin",
     "output_type": "stream",
     "text": [
      "Enter a string:  Anuj is a star\n"
     ]
    },
    {
     "name": "stdout",
     "output_type": "stream",
     "text": [
      "Anuj is a star\n",
      "Reversed string -->  star a is Anuj\n"
     ]
    }
   ],
   "source": [
    "# define a function\n",
    "\n",
    "def reverse_the_words(s):\n",
    "    # Since words are separated by spaces in a string it can be splitted into a list\n",
    "    splitted_s = s.split()\n",
    "    #print(splitted_s)\n",
    "    reversed_string = splitted_s[::-1]\n",
    "    print(\"Reversed string --> \", \" \".join(reversed_string))\n",
    "\n",
    "# Take string as an input from the user assuming each word is separated out by spaces\n",
    "# Also, assume that there are no leading and trailing spaces.\n",
    "user_input = input(\"Enter a string: \")\n",
    "print(user_input)\n",
    "\n",
    "# call a fucntion\n",
    "reverse_the_words(user_input)"
   ]
  },
  {
   "cell_type": "markdown",
   "id": "c8f38103-609a-43f1-869c-a08294ca9295",
   "metadata": {},
   "source": [
    "#### Bonus question\n",
    "\n",
    "Write a function `word_counter(s)` which will take a string `s` as input and returns a dictionary with count of words (case insensitive). Remove all the punctuations and special symbols present in the string.  \n",
    "\n",
    "Example:\n",
    "```python\n",
    "s = \"This city is a beautiful city. This is where I live\"\n",
    "d = word_counter(s)\n",
    "\n",
    "# Expected output (output can be in any order): {\"this\": 2, \"city\": 2, \"is\": 2, \"a\": 1, \"beautiful\": 1, \"where\": 1, \"i\": 1, \"live\": 1}\n",
    "```"
   ]
  },
  {
   "cell_type": "code",
   "execution_count": 55,
   "id": "65b4322f-bfd3-42f9-b92e-d10897742b71",
   "metadata": {},
   "outputs": [
    {
     "name": "stdout",
     "output_type": "stream",
     "text": [
      "maula mere maula mere maula mere\n",
      "{'maula': 3, 'mere': 3}\n"
     ]
    }
   ],
   "source": [
    "#define the top level function\n",
    "\n",
    "def word_counter(s):\n",
    "    \n",
    "    # Define a list of punctuation marks manually\n",
    "    punctuation = \"!\\\"#$%&'()*+,-./:;<=>?@[\\\\]^_`{|}~\"\n",
    "    \n",
    "    # Initialize an empty string to store the result\n",
    "    clean_text = \"\"\n",
    "    \n",
    "    # Loop through each character in the input string\n",
    "    for char in s:\n",
    "        # Manually check if the character is NOT in punctuation\n",
    "        if char not in punctuation:\n",
    "            clean_text += char  # Append valid characters\n",
    "            \n",
    "    print(clean_text)\n",
    "\n",
    "    lower_case_string = clean_text.lower()\n",
    "    word_list = lower_case_string.split()\n",
    "\n",
    "    # define empty dictionary\n",
    "    word_count_dict = {}\n",
    "\n",
    "    for i in word_list:\n",
    "        if i in word_count_dict:\n",
    "            # if key is found then increment the value corressponding to that key.\n",
    "            word_count_dict[i] += 1\n",
    "\n",
    "        else:\n",
    "            # initialize dictionary with the first word\n",
    "            word_count_dict[i] = 1\n",
    "\n",
    "    print(word_count_dict)\n",
    "            \n",
    "            \n",
    "# Example usage\n",
    "text = \"maula mere maula mere maula mere\"\n",
    "word_counter(text)"
   ]
  },
  {
   "cell_type": "code",
   "execution_count": null,
   "id": "039caaaa-ab87-448a-afbb-a73a29e6fe22",
   "metadata": {},
   "outputs": [],
   "source": []
  }
 ],
 "metadata": {
  "kernelspec": {
   "display_name": "Python 3 (ipykernel)",
   "language": "python",
   "name": "python3"
  },
  "language_info": {
   "codemirror_mode": {
    "name": "ipython",
    "version": 3
   },
   "file_extension": ".py",
   "mimetype": "text/x-python",
   "name": "python",
   "nbconvert_exporter": "python",
   "pygments_lexer": "ipython3",
   "version": "3.9.6"
  }
 },
 "nbformat": 4,
 "nbformat_minor": 5
}
